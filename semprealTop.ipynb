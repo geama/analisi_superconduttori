{
  "cells": [
    {
      "cell_type": "markdown",
      "metadata": {
        "id": "view-in-github",
        "colab_type": "text"
      },
      "source": [
        "<a href=\"https://colab.research.google.com/github/geama/analisi_superconduttori/blob/main/semprealTop.ipynb\" target=\"_parent\"><img src=\"https://colab.research.google.com/assets/colab-badge.svg\" alt=\"Open In Colab\"/></a>"
      ]
    },
    {
      "cell_type": "code",
      "execution_count": null,
      "metadata": {
        "colab": {
          "base_uri": "https://localhost:8080/"
        },
        "id": "LxAaEhT0JqM3",
        "outputId": "0eebeede-c9ca-4de8-9120-dad1e4c4f0af"
      },
      "outputs": [
        {
          "output_type": "stream",
          "name": "stdout",
          "text": [
            "Looking in indexes: https://pypi.org/simple, https://us-python.pkg.dev/colab-wheels/public/simple/\n",
            "Collecting uproot\n",
            "  Downloading uproot-4.3.3-py2.py3-none-any.whl (302 kB)\n",
            "\u001b[K     |████████████████████████████████| 302 kB 7.9 MB/s \n",
            "\u001b[?25hRequirement already satisfied: setuptools in /usr/local/lib/python3.7/dist-packages (from uproot) (57.4.0)\n",
            "Requirement already satisfied: numpy in /usr/local/lib/python3.7/dist-packages (from uproot) (1.21.6)\n",
            "Installing collected packages: uproot\n",
            "Successfully installed uproot-4.3.3\n",
            "Looking in indexes: https://pypi.org/simple, https://us-python.pkg.dev/colab-wheels/public/simple/\n",
            "Collecting uproot_methods\n",
            "  Downloading uproot_methods-0.9.2-py3-none-any.whl (32 kB)\n",
            "Collecting awkward<1.0.0\n",
            "  Downloading awkward-0.14.0-py2.py3-none-any.whl (87 kB)\n",
            "\u001b[K     |████████████████████████████████| 87 kB 4.8 MB/s \n",
            "\u001b[?25hRequirement already satisfied: numpy>=1.13.1 in /usr/local/lib/python3.7/dist-packages (from uproot_methods) (1.21.6)\n",
            "Installing collected packages: awkward, uproot-methods\n",
            "Successfully installed awkward-0.14.0 uproot-methods-0.9.2\n",
            "Looking in indexes: https://pypi.org/simple, https://us-python.pkg.dev/colab-wheels/public/simple/\n",
            "Requirement already satisfied: tensorflow in /usr/local/lib/python3.7/dist-packages (2.8.2+zzzcolab20220719082949)\n",
            "Requirement already satisfied: wrapt>=1.11.0 in /usr/local/lib/python3.7/dist-packages (from tensorflow) (1.14.1)\n",
            "Requirement already satisfied: google-pasta>=0.1.1 in /usr/local/lib/python3.7/dist-packages (from tensorflow) (0.2.0)\n",
            "Requirement already satisfied: flatbuffers>=1.12 in /usr/local/lib/python3.7/dist-packages (from tensorflow) (2.0)\n",
            "Requirement already satisfied: astunparse>=1.6.0 in /usr/local/lib/python3.7/dist-packages (from tensorflow) (1.6.3)\n",
            "Requirement already satisfied: libclang>=9.0.1 in /usr/local/lib/python3.7/dist-packages (from tensorflow) (14.0.1)\n",
            "Requirement already satisfied: absl-py>=0.4.0 in /usr/local/lib/python3.7/dist-packages (from tensorflow) (1.2.0)\n",
            "Requirement already satisfied: keras-preprocessing>=1.1.1 in /usr/local/lib/python3.7/dist-packages (from tensorflow) (1.1.2)\n",
            "Requirement already satisfied: tensorboard<2.9,>=2.8 in /usr/local/lib/python3.7/dist-packages (from tensorflow) (2.8.0)\n",
            "Requirement already satisfied: grpcio<2.0,>=1.24.3 in /usr/local/lib/python3.7/dist-packages (from tensorflow) (1.47.0)\n",
            "Requirement already satisfied: keras<2.9,>=2.8.0rc0 in /usr/local/lib/python3.7/dist-packages (from tensorflow) (2.8.0)\n",
            "Requirement already satisfied: tensorflow-io-gcs-filesystem>=0.23.1 in /usr/local/lib/python3.7/dist-packages (from tensorflow) (0.26.0)\n",
            "Requirement already satisfied: numpy>=1.20 in /usr/local/lib/python3.7/dist-packages (from tensorflow) (1.21.6)\n",
            "Requirement already satisfied: gast>=0.2.1 in /usr/local/lib/python3.7/dist-packages (from tensorflow) (0.5.3)\n",
            "Requirement already satisfied: opt-einsum>=2.3.2 in /usr/local/lib/python3.7/dist-packages (from tensorflow) (3.3.0)\n",
            "Requirement already satisfied: termcolor>=1.1.0 in /usr/local/lib/python3.7/dist-packages (from tensorflow) (1.1.0)\n",
            "Requirement already satisfied: typing-extensions>=3.6.6 in /usr/local/lib/python3.7/dist-packages (from tensorflow) (4.1.1)\n",
            "Requirement already satisfied: protobuf<3.20,>=3.9.2 in /usr/local/lib/python3.7/dist-packages (from tensorflow) (3.17.3)\n",
            "Requirement already satisfied: h5py>=2.9.0 in /usr/local/lib/python3.7/dist-packages (from tensorflow) (3.1.0)\n",
            "Requirement already satisfied: tensorflow-estimator<2.9,>=2.8 in /usr/local/lib/python3.7/dist-packages (from tensorflow) (2.8.0)\n",
            "Requirement already satisfied: setuptools in /usr/local/lib/python3.7/dist-packages (from tensorflow) (57.4.0)\n",
            "Requirement already satisfied: six>=1.12.0 in /usr/local/lib/python3.7/dist-packages (from tensorflow) (1.15.0)\n",
            "Requirement already satisfied: wheel<1.0,>=0.23.0 in /usr/local/lib/python3.7/dist-packages (from astunparse>=1.6.0->tensorflow) (0.37.1)\n",
            "Requirement already satisfied: cached-property in /usr/local/lib/python3.7/dist-packages (from h5py>=2.9.0->tensorflow) (1.5.2)\n",
            "Requirement already satisfied: requests<3,>=2.21.0 in /usr/local/lib/python3.7/dist-packages (from tensorboard<2.9,>=2.8->tensorflow) (2.23.0)\n",
            "Requirement already satisfied: tensorboard-plugin-wit>=1.6.0 in /usr/local/lib/python3.7/dist-packages (from tensorboard<2.9,>=2.8->tensorflow) (1.8.1)\n",
            "Requirement already satisfied: tensorboard-data-server<0.7.0,>=0.6.0 in /usr/local/lib/python3.7/dist-packages (from tensorboard<2.9,>=2.8->tensorflow) (0.6.1)\n",
            "Requirement already satisfied: markdown>=2.6.8 in /usr/local/lib/python3.7/dist-packages (from tensorboard<2.9,>=2.8->tensorflow) (3.4.1)\n",
            "Requirement already satisfied: google-auth<3,>=1.6.3 in /usr/local/lib/python3.7/dist-packages (from tensorboard<2.9,>=2.8->tensorflow) (1.35.0)\n",
            "Requirement already satisfied: werkzeug>=0.11.15 in /usr/local/lib/python3.7/dist-packages (from tensorboard<2.9,>=2.8->tensorflow) (1.0.1)\n",
            "Requirement already satisfied: google-auth-oauthlib<0.5,>=0.4.1 in /usr/local/lib/python3.7/dist-packages (from tensorboard<2.9,>=2.8->tensorflow) (0.4.6)\n",
            "Requirement already satisfied: cachetools<5.0,>=2.0.0 in /usr/local/lib/python3.7/dist-packages (from google-auth<3,>=1.6.3->tensorboard<2.9,>=2.8->tensorflow) (4.2.4)\n",
            "Requirement already satisfied: pyasn1-modules>=0.2.1 in /usr/local/lib/python3.7/dist-packages (from google-auth<3,>=1.6.3->tensorboard<2.9,>=2.8->tensorflow) (0.2.8)\n",
            "Requirement already satisfied: rsa<5,>=3.1.4 in /usr/local/lib/python3.7/dist-packages (from google-auth<3,>=1.6.3->tensorboard<2.9,>=2.8->tensorflow) (4.8)\n",
            "Requirement already satisfied: requests-oauthlib>=0.7.0 in /usr/local/lib/python3.7/dist-packages (from google-auth-oauthlib<0.5,>=0.4.1->tensorboard<2.9,>=2.8->tensorflow) (1.3.1)\n",
            "Requirement already satisfied: importlib-metadata>=4.4 in /usr/local/lib/python3.7/dist-packages (from markdown>=2.6.8->tensorboard<2.9,>=2.8->tensorflow) (4.12.0)\n",
            "Requirement already satisfied: zipp>=0.5 in /usr/local/lib/python3.7/dist-packages (from importlib-metadata>=4.4->markdown>=2.6.8->tensorboard<2.9,>=2.8->tensorflow) (3.8.1)\n",
            "Requirement already satisfied: pyasn1<0.5.0,>=0.4.6 in /usr/local/lib/python3.7/dist-packages (from pyasn1-modules>=0.2.1->google-auth<3,>=1.6.3->tensorboard<2.9,>=2.8->tensorflow) (0.4.8)\n",
            "Requirement already satisfied: chardet<4,>=3.0.2 in /usr/local/lib/python3.7/dist-packages (from requests<3,>=2.21.0->tensorboard<2.9,>=2.8->tensorflow) (3.0.4)\n",
            "Requirement already satisfied: certifi>=2017.4.17 in /usr/local/lib/python3.7/dist-packages (from requests<3,>=2.21.0->tensorboard<2.9,>=2.8->tensorflow) (2022.6.15)\n",
            "Requirement already satisfied: urllib3!=1.25.0,!=1.25.1,<1.26,>=1.21.1 in /usr/local/lib/python3.7/dist-packages (from requests<3,>=2.21.0->tensorboard<2.9,>=2.8->tensorflow) (1.24.3)\n",
            "Requirement already satisfied: idna<3,>=2.5 in /usr/local/lib/python3.7/dist-packages (from requests<3,>=2.21.0->tensorboard<2.9,>=2.8->tensorflow) (2.10)\n",
            "Requirement already satisfied: oauthlib>=3.0.0 in /usr/local/lib/python3.7/dist-packages (from requests-oauthlib>=0.7.0->google-auth-oauthlib<0.5,>=0.4.1->tensorboard<2.9,>=2.8->tensorflow) (3.2.0)\n"
          ]
        }
      ],
      "source": [
        "!pip install uproot\n",
        "!pip install uproot_methods\n",
        "import uproot\n",
        "from uproot_methods.classes import TLorentzVector\n",
        "import pandas as pd\n",
        "import numpy as np\n",
        "import matplotlib.pyplot as plt\n",
        "import seaborn as sns\n",
        "from sklearn.model_selection import train_test_split\n",
        "!pip install tensorflow\n"
      ]
    },
    {
      "cell_type": "markdown",
      "metadata": {
        "id": "9DhLuB22cm59"
      },
      "source": [
        "# Caricamento dei file"
      ]
    },
    {
      "cell_type": "code",
      "execution_count": null,
      "metadata": {
        "colab": {
          "base_uri": "https://localhost:8080/"
        },
        "id": "GEkF7CrsJ7xo",
        "outputId": "af02334e-1a3b-48b0-99bd-8acb526891fe"
      },
      "outputs": [
        {
          "output_type": "stream",
          "name": "stdout",
          "text": [
            "['muons_size', 'muons_pt', 'muons_eta', 'muons_phi', 'muons_e', 'muons_charge', 'muons_chi2', 'muons_mctruthmatch', 'muons_minDR', 'muons_dB', 'muons_dz', 'muons_reliso', 'muons_isLooseMuon', 'muons_isTightMuon', 'muons_nmatchstat', 'muons_nmuonhits', 'muons_npixhits', 'muons_nlaywithmeas', 'electrons_size', 'electrons_pt', 'electrons_eta', 'electrons_phi', 'electrons_e', 'electrons_mctruthmatch', 'electrons_minDR', 'electrons_isTightElectron', 'electrons_reliso', 'electrons_hOverE', 'electrons_dB', 'electrons_dz', 'electrons_dEtaIn', 'electrons_dPhiIn', 'electrons_ninner', 'electrons_sigmaieie', 'electrons_ooemoop', 'met_pt', 'met_phi', 'jets_size', 'jets_pt', 'jets_eta', 'jets_phi', 'jets_e', 'muons_c', 'genlep_size', 'genlep_pt', 'genlep_eta', 'genlep_phi', 'genlep_e', 'genlep_id', 'electrons_charge']\n"
          ]
        }
      ],
      "source": [
        "# carico i file\n",
        "filename=\"segnale1.root\" # segnale dileptonico\n",
        "segnale = uproot.open(filename)\n",
        "\n",
        "filename2=\"fondo_1.root\" # fondo\n",
        "fondo = uproot.open(filename2)\n",
        "\n",
        "# accedo alle colonne\n",
        "print(segnale[\"trees/events\"].keys())"
      ]
    },
    {
      "cell_type": "code",
      "execution_count": null,
      "metadata": {
        "id": "NYR3fG0v_Kud"
      },
      "outputs": [],
      "source": [
        "# fondo contro segnale\n",
        "# contro segnale Z\n",
        "# massa della Z\n",
        "# feature met energia mancante -> es. neutrini\n",
        "# nella zeta avrò met minore perché i neutrini trasportano meno energia\n",
        "# allenare contro il fondo"
      ]
    },
    {
      "cell_type": "code",
      "execution_count": null,
      "metadata": {
        "id": "oI4Mm5RRKSkO"
      },
      "outputs": [],
      "source": [
        "# trasformo in pandas dataframe i dati\n",
        "\n",
        "# segnale\n",
        "np_segnale = (segnale[\"trees/events\"].arrays(segnale[\"trees/events\"].keys(),library=\"np\"))\n",
        "df_segnale = pd.DataFrame(np_segnale)\n",
        "\n",
        "# fondo \n",
        "np_fondo = (fondo[\"trees/events\"].arrays(fondo[\"trees/events\"].keys(),library=\"np\"))\n",
        "df_fondo = pd.DataFrame(np_fondo)"
      ]
    },
    {
      "cell_type": "code",
      "execution_count": null,
      "metadata": {
        "colab": {
          "base_uri": "https://localhost:8080/"
        },
        "id": "dB4JxIAsNE8c",
        "outputId": "95c1489c-de45-4a06-b81f-fa42985b452f"
      },
      "outputs": [
        {
          "output_type": "stream",
          "name": "stdout",
          "text": [
            "(50000, 50)\n"
          ]
        },
        {
          "output_type": "execute_result",
          "data": {
            "text/plain": [
              "(50000, 50)"
            ]
          },
          "metadata": {},
          "execution_count": 5
        }
      ],
      "source": [
        "print(df_segnale.shape)\n",
        "df_fondo.shape"
      ]
    },
    {
      "cell_type": "code",
      "execution_count": null,
      "metadata": {
        "id": "a1nSaYdqhd-r"
      },
      "outputs": [],
      "source": [
        "def drop_size(df):\n",
        "  for i in range(df.shape[0]):\n",
        "    if df['jets_size'][i] < df['electrons_size'][i] or df['jets_size'][i] < df['electrons_size'][i]:\n",
        "      # print(i)\n",
        "      df = df.drop(i, axis=0)\n",
        "  df.index=list(range(df.shape[0]))\n",
        "  return df\n",
        "\n",
        "df_fondo = drop_size(df_fondo)\n",
        "df_segnale = drop_size(df_segnale)"
      ]
    },
    {
      "cell_type": "code",
      "execution_count": null,
      "metadata": {
        "id": "e68gvLa7Lwhv"
      },
      "outputs": [],
      "source": [
        "def drop_rows(df):\n",
        "  drop_rows = []\n",
        "  for i in range(df.shape[0]):\n",
        "    if df['jets_pt'][i].size==0 and df['muons_pt'][i].size==0 and df['electrons_pt'][i].size==0:\n",
        "      drop_rows.append(i)\n",
        "  return drop_rows"
      ]
    },
    {
      "cell_type": "code",
      "execution_count": null,
      "metadata": {
        "colab": {
          "base_uri": "https://localhost:8080/"
        },
        "id": "w4-69nDYLBLj",
        "outputId": "2413a7e5-aad4-4d8e-ed95-fbb9c4cacb8d"
      },
      "outputs": [
        {
          "output_type": "stream",
          "name": "stdout",
          "text": [
            "(49976, 50)\n"
          ]
        },
        {
          "output_type": "execute_result",
          "data": {
            "text/plain": [
              "(42306, 50)"
            ]
          },
          "metadata": {},
          "execution_count": 8
        }
      ],
      "source": [
        "drop_list_segnale = drop_rows(df_segnale)\n",
        "drop_list_fondo = drop_rows(df_fondo)\n",
        "\n",
        "df_segnale = df_segnale.drop(drop_list_segnale, axis=0)\n",
        "df_fondo = df_fondo.drop(drop_list_fondo, axis=0)\n",
        "\n",
        "print(df_segnale.shape)\n",
        "df_fondo.shape"
      ]
    },
    {
      "cell_type": "code",
      "execution_count": null,
      "metadata": {
        "colab": {
          "base_uri": "https://localhost:8080/"
        },
        "id": "JVl2PcHNJfty",
        "outputId": "73f3f32a-272f-4fa8-94fd-3fb13b4d5385"
      },
      "outputs": [
        {
          "output_type": "stream",
          "name": "stdout",
          "text": [
            "Index(['muons_size', 'muons_pt', 'muons_eta', 'muons_phi', 'muons_e',\n",
            "       'muons_charge', 'muons_chi2', 'muons_mctruthmatch', 'muons_minDR',\n",
            "       'muons_dB', 'muons_dz', 'muons_reliso', 'muons_isLooseMuon',\n",
            "       'muons_isTightMuon', 'muons_nmatchstat', 'muons_nmuonhits',\n",
            "       'muons_npixhits', 'muons_nlaywithmeas', 'electrons_size',\n",
            "       'electrons_pt', 'electrons_eta', 'electrons_phi', 'electrons_e',\n",
            "       'electrons_mctruthmatch', 'electrons_minDR',\n",
            "       'electrons_isTightElectron', 'electrons_reliso', 'electrons_hOverE',\n",
            "       'electrons_dB', 'electrons_dz', 'electrons_dEtaIn', 'electrons_dPhiIn',\n",
            "       'electrons_ninner', 'electrons_sigmaieie', 'electrons_ooemoop',\n",
            "       'met_pt', 'met_phi', 'jets_size', 'jets_pt', 'jets_eta', 'jets_phi',\n",
            "       'jets_e', 'muons_c', 'genlep_size', 'genlep_pt', 'genlep_eta',\n",
            "       'genlep_phi', 'genlep_e', 'genlep_id', 'electrons_charge'],\n",
            "      dtype='object')\n"
          ]
        }
      ],
      "source": [
        "print(df_fondo.columns)"
      ]
    },
    {
      "cell_type": "code",
      "execution_count": null,
      "metadata": {
        "id": "RKMQMFH4Y_D_"
      },
      "outputs": [],
      "source": [
        "df_fondo = df_fondo[:5000]\n",
        "df_segnale = df_segnale[:5000]"
      ]
    },
    {
      "cell_type": "code",
      "execution_count": null,
      "metadata": {
        "id": "BKCy235oOZem"
      },
      "outputs": [],
      "source": [
        "df_fondo.index=list(range(5000))\n",
        "df_segnale.index=list(range(5000))"
      ]
    },
    {
      "cell_type": "markdown",
      "metadata": {
        "id": "hLLTHUeldHUR"
      },
      "source": [
        "# Preprocessing dei dati \n"
      ]
    },
    {
      "cell_type": "code",
      "execution_count": null,
      "metadata": {
        "id": "TDaQsmu-Si-r"
      },
      "outputs": [],
      "source": [
        "def filter_df_by_name(dataframe,particle):\n",
        "  '''restituisce dataframe con le colonne relative alla particella selezionata, \n",
        "  il parametro particle da inserire deve essere una stringa'''\n",
        "  '''per esempio \"electrons\" oppure \"muons\"'''\n",
        "  list_feat_elect=[]\n",
        "  for i in list(dataframe.columns):\n",
        "    if particle in i:\n",
        "        list_feat_elect.append(i)\n",
        "  df_filtered=dataframe[list_feat_elect]      \n",
        "  return df_filtered"
      ]
    },
    {
      "cell_type": "code",
      "execution_count": null,
      "metadata": {
        "colab": {
          "base_uri": "https://localhost:8080/"
        },
        "id": "uYFzBciJkSUu",
        "outputId": "62b976d8-6e66-4f82-ee01-4c32c99194f5"
      },
      "outputs": [
        {
          "output_type": "stream",
          "name": "stdout",
          "text": [
            "fondo:  {'muons_size': 'int', 'muons_pt': 3376, 'muons_eta': 3376, 'muons_phi': 3376, 'muons_e': 3376, 'muons_charge': 3376, 'muons_chi2': 3376, 'muons_mctruthmatch': 3376, 'muons_minDR': 3376, 'muons_dB': 3376, 'muons_dz': 3376, 'muons_reliso': 3376, 'muons_isLooseMuon': 3376, 'muons_isTightMuon': 3376, 'muons_nmatchstat': 5000, 'muons_nmuonhits': 3376, 'muons_npixhits': 3376, 'muons_nlaywithmeas': 3376, 'electrons_size': 'int', 'electrons_pt': 3212, 'electrons_eta': 3212, 'electrons_phi': 3212, 'electrons_e': 3212, 'electrons_mctruthmatch': 3212, 'electrons_minDR': 3212, 'electrons_isTightElectron': 3212, 'electrons_reliso': 3212, 'electrons_hOverE': 3212, 'electrons_dB': 3212, 'electrons_dz': 3212, 'electrons_dEtaIn': 3212, 'electrons_dPhiIn': 3212, 'electrons_ninner': 3212, 'electrons_sigmaieie': 3212, 'electrons_ooemoop': 3212, 'met_pt': 0, 'met_phi': 0, 'jets_size': 'int', 'jets_pt': 0, 'jets_eta': 0, 'jets_phi': 0, 'jets_e': 0, 'muons_c': 5000, 'genlep_size': 'int', 'genlep_pt': 5000, 'genlep_eta': 5000, 'genlep_phi': 5000, 'genlep_e': 5000, 'genlep_id': 5000, 'electrons_charge': 3212}\n",
            "segnale:  {'muons_size': 'int', 'muons_pt': 2360, 'muons_eta': 2360, 'muons_phi': 2360, 'muons_e': 2360, 'muons_charge': 2360, 'muons_chi2': 2360, 'muons_mctruthmatch': 2360, 'muons_minDR': 2360, 'muons_dB': 2360, 'muons_dz': 2360, 'muons_reliso': 2360, 'muons_isLooseMuon': 2360, 'muons_isTightMuon': 2360, 'muons_nmatchstat': 5000, 'muons_nmuonhits': 2360, 'muons_npixhits': 2360, 'muons_nlaywithmeas': 2360, 'electrons_size': 'int', 'electrons_pt': 2201, 'electrons_eta': 2201, 'electrons_phi': 2201, 'electrons_e': 2201, 'electrons_mctruthmatch': 2201, 'electrons_minDR': 2201, 'electrons_isTightElectron': 2201, 'electrons_reliso': 2201, 'electrons_hOverE': 2201, 'electrons_dB': 2201, 'electrons_dz': 2201, 'electrons_dEtaIn': 2201, 'electrons_dPhiIn': 2201, 'electrons_ninner': 2201, 'electrons_sigmaieie': 2201, 'electrons_ooemoop': 2201, 'met_pt': 0, 'met_phi': 0, 'jets_size': 'int', 'jets_pt': 0, 'jets_eta': 0, 'jets_phi': 0, 'jets_e': 0, 'muons_c': 5000, 'genlep_size': 'int', 'genlep_pt': 5000, 'genlep_eta': 5000, 'genlep_phi': 5000, 'genlep_e': 5000, 'genlep_id': 5000, 'electrons_charge': 2201}\n"
          ]
        }
      ],
      "source": [
        "def is_null(df):\n",
        "    '''\n",
        "    Check and count if there are null value in a whole dataframe, column by column\n",
        "    '''\n",
        "    col=list(df.columns)\n",
        "    counting = []\n",
        "    for i in col:\n",
        "        count = 0\n",
        "        for j in df[i]:\n",
        "            if type(j)==int:\n",
        "              count = 'int'\n",
        "              break\n",
        "            if len(j)==0:\n",
        "                count += 1\n",
        "        counting.append(count)\n",
        "    return dict(zip(col, counting))\n",
        "\n",
        "print('fondo: ', is_null(df_fondo))\n",
        "print('segnale: ', is_null(df_segnale))\n"
      ]
    },
    {
      "cell_type": "code",
      "execution_count": null,
      "metadata": {
        "colab": {
          "base_uri": "https://localhost:8080/"
        },
        "id": "1FFJef3UvLy7",
        "outputId": "3fd5dff4-a29b-48b5-abe6-857063ce14dc"
      },
      "outputs": [
        {
          "output_type": "stream",
          "name": "stdout",
          "text": [
            "(5000, 50)\n"
          ]
        },
        {
          "output_type": "execute_result",
          "data": {
            "text/plain": [
              "(5000, 44)"
            ]
          },
          "metadata": {},
          "execution_count": 14
        }
      ],
      "source": [
        "# droppiamo le colonne che hanno nel nome 'genlep' perché vuote\n",
        "def drop_genlep(dataframe):\n",
        "    list_feat_del=[]\n",
        "    for column in list(dataframe.columns):\n",
        "        if \"genlep\" in column:\n",
        "            list_feat_del.append(column)\n",
        "\n",
        "    dataframe=dataframe.drop(columns=list_feat_del)\n",
        "    return dataframe\n",
        "    \n",
        "print(df_segnale.shape)\n",
        "df_segnale = drop_genlep(df_segnale)\n",
        "df_fondo = drop_genlep(df_fondo)\n",
        "df_segnale.shape"
      ]
    },
    {
      "cell_type": "code",
      "execution_count": null,
      "metadata": {
        "id": "VpVvFW10TzVX"
      },
      "outputs": [],
      "source": [
        "def n_particles(df):\n",
        "# Vogliamo sapere per ogni evento quante particelle ci sono\n",
        "# in modo da creare una lista con un secondo indice\n",
        "  col = df.columns\n",
        "  index_2 = []\n",
        "  col_index = []\n",
        "  list_dict = []\n",
        "  for i in col:\n",
        "    index_2 = []\n",
        "    for j in range(df.shape[0]):\n",
        "      if type(df[i][j])==int:\n",
        "          break\n",
        "      count = 1\n",
        "      if (df[i][j].size==1 or df[i][j].size==0):\n",
        "        count = 1\n",
        "        index_2.append(count)\n",
        "      else:\n",
        "        for k in range(1,df[i][j].size+1):\n",
        "          count = k\n",
        "          index_2.append(count)\n",
        "    #col_index è una lista (ciclata su tutte le colonne) del tipo:\n",
        "    #col_index[41]=[1,2,3,1,2,1,...]\n",
        "    #cioè la colonna 41 ha come prima riga un array di dimensione 3,\n",
        "    #come seconda uno di dimensione 2,ecc..\n",
        "    \n",
        "    col_index.append(index_2)\n",
        "    \n",
        "    #dic è un dizionario che associa ad ogni colonna il numero totale di\n",
        "    #particelle coinvolte\n",
        "    dic = dict(zip(df.columns, [len(col_index[i]) for i in range(len(col_index))] ))\n",
        "    # dizionario che restituisce come chiave il nome della feature \n",
        "    # e come valore la size della colonna corrispondente\n",
        "  return dic,col_index"
      ]
    },
    {
      "cell_type": "code",
      "execution_count": null,
      "metadata": {
        "id": "WAKAxyfWzI8g"
      },
      "outputs": [],
      "source": [
        "def indexing_columns(df, feature_name, size, col_index):\n",
        "  '''\n",
        "  Restituisce una lista di indici che segnalano l'evento di riferimento\n",
        "  contando tutte le particelle (o suoi attributi) presenti in una determinata colonna\n",
        "  '''\n",
        "  # prendo l'indice corrispondente a quella colonna per lavorare su col_index\n",
        "  index_col = df.columns.get_loc(feature_name)\n",
        "  ind = []\n",
        "  evento = 0\n",
        "  for i in range(size):\n",
        "    # condizione sull'ultimo valore: se è 1 bisogna incrementare la variabile evento\n",
        "    if i==(size-1):\n",
        "      ind.append(evento)\n",
        "      break\n",
        "    ind.append(evento)\n",
        "    # condizione che si verifica quando si cambia evento\n",
        "    # esempio: [1,2,3,1,2,1] -> questa lista contiene 3 eventi:\n",
        "    # il primo è composto da tre slot particelle, il secondo da due e l'ultimo da uno\n",
        "    if col_index[index_col][i] >= col_index[index_col][i+1]:\n",
        "      evento = evento + 1\n",
        "  return ind"
      ]
    },
    {
      "cell_type": "code",
      "execution_count": null,
      "metadata": {
        "id": "lck-XGsOyh_2"
      },
      "outputs": [],
      "source": [
        "# non ci interessano tutte le colonne\n",
        "features = ['muons_pt', 'muons_e', 'electrons_pt', 'electrons_e', 'electrons_isTightElectron', 'muons_isTightMuon', 'jets_pt', 'jets_e', 'met_pt', 'met_phi', 'muons_eta', 'muons_phi', 'electrons_eta', 'electrons_phi', 'jets_eta', 'jets_phi','muons_charge','electrons_charge']"
      ]
    },
    {
      "cell_type": "code",
      "execution_count": null,
      "metadata": {
        "id": "A2RIUPGP3GNK"
      },
      "outputs": [],
      "source": [
        "# vogliamo creare l'indice 1, quello che ci dà informazione su che evento stiamo guardando,\n",
        "# dunque prendo nome e size della colonna con size massima (solitamente è quella che fa riferimento\n",
        "# agli attributi dei jet -MA NON LA SIZE-)\n",
        "import operator\n",
        "\n",
        "# prendiamo solo le colonne selezionate\n",
        "df = df_segnale[features] # per il segnale\n",
        "df_f = df_fondo[features] # per il fondo\n",
        "\n",
        "# genero il dizionario delle size e l'indice che conta le particelle per evento\n",
        "dic, col_index = n_particles(df) # per il segnale\n",
        "dic_fondo, col_index_fondo = n_particles(df_f) # per il fondo\n",
        "\n",
        "# size colonna di dimensione massima (solitamente è quella dei jet)\n",
        "max_value = max(dic.values()) # per il segnale\n",
        "max_value_fondo = max(dic_fondo.values()) # per il fondo\n",
        "\n",
        "# nome corrispondente alla colonna di size massima\n",
        "max_key = max(dic.items(), key=operator.itemgetter(1))[0] # per il segnale\n",
        "max_key_fondo = max(dic_fondo.items(), key=operator.itemgetter(1))[0] # per il fondo\n",
        "\n",
        "# genero l'indice degli eventi\n",
        "ind_max_list = indexing_columns(df, max_key, max_value, col_index)\n",
        "ind_max_list_fondo = indexing_columns(df_f, max_key_fondo, max_value_fondo, col_index_fondo)"
      ]
    },
    {
      "cell_type": "code",
      "execution_count": null,
      "metadata": {
        "id": "VgTT42xXFX-4"
      },
      "outputs": [],
      "source": [
        "\n",
        "# generiamo il nuovo array di dati in cui tutte le colonne avranno size pari\n",
        "# alla dimensione della colonna di size massima, riempiendo gli 'spazi vuoti' con 'null_var',\n",
        "# altrimenti -10 (per le grandezze eta e phi)\n",
        "\n",
        "def new_array_stepone(df, ind_max_list, dic, col_index):\n",
        "  new_df_array = []\n",
        "  new_df_col = []\n",
        "  col = df.columns\n",
        "\n",
        "  for i in col:\n",
        "    new_df_col = []\n",
        "    # if 'eta' in i or 'phi' in i:\n",
        "    if 'isTight' in i:\n",
        "      null_var = 0\n",
        "    else:\n",
        "      null_var = -10\n",
        "      \n",
        "    for j in range(df.shape[0]):\n",
        "\n",
        "      # questa condizione serve nel caso ci sia una colonna di int\n",
        "      if type(df[i][j])==int or type(df[i][j])==np.int32: \n",
        "          break\n",
        "      \n",
        "      # calcolo la differenza di particelle tra quelle presenti  \n",
        "      # nella colonna i-esima e la colonna con la size massima\n",
        "      diff = ind_max_list.count(j) - indexing_columns(df, i, dic[i], col_index).count(j)\n",
        "\n",
        "      if df[i][j].size==0:\n",
        "        # nel caso in cui ci sia un vettore vuoto aggiungiamo null_var\n",
        "        new_df_col.append(null_var)\n",
        "        for w in range(diff): # riempio gli slot vuoti\n",
        "          new_df_col.append(null_var)\n",
        "\n",
        "      else:\n",
        "\n",
        "        for k in range(df[i][j].size):\n",
        "          # nel caso in cui il vettore abbia dei valori, li aggiungo\n",
        "          new_df_col.append(df[i][j].tolist()[k])\n",
        "        for w in range(diff): # riempio gli slot vuoti\n",
        "          new_df_col.append(null_var)\n",
        "\n",
        "    new_df_array.append(new_df_col)\n",
        "\n",
        "  return new_df_array"
      ]
    },
    {
      "cell_type": "code",
      "execution_count": null,
      "metadata": {
        "id": "7bLtIBVjgOHp"
      },
      "outputs": [],
      "source": [
        "new_df_array = new_array_stepone(df, ind_max_list, dic, col_index)\n",
        "new_df_array_fondo = new_array_stepone(df_f, ind_max_list_fondo, dic_fondo, col_index_fondo)"
      ]
    },
    {
      "cell_type": "code",
      "execution_count": null,
      "metadata": {
        "id": "O4B_8pAszCtz"
      },
      "outputs": [],
      "source": [
        "# 'muons_pt', 'muons_e', 'electrons_pt', 'electrons_e', 'electrons_isTightElectron', 'muons_isTightMuon', 'jets_pt', 'jets_e', 'met_pt', 'met_phi', 'muons_eta', 'muons_phi', 'electrons_eta', 'electrons_phi', 'jets_eta', 'jets_phi'"
      ]
    },
    {
      "cell_type": "code",
      "execution_count": null,
      "metadata": {
        "id": "zs31QWDkxMlK"
      },
      "outputs": [],
      "source": [
        "# for i in range(len(new_df_array_fondo)):\n",
        "#   print(len(new_df_array_fondo[i]))\n",
        "\n",
        "# print(new_df_array_fondo[1])\n"
      ]
    },
    {
      "cell_type": "code",
      "execution_count": null,
      "metadata": {
        "id": "EHiP7YEQJLcP"
      },
      "outputs": [],
      "source": [
        "dic_df = dict(zip(features, new_df_array))\n",
        "dic_df_f = dict(zip(features, new_df_array_fondo))\n",
        "\n",
        "# trasformo il vettore creato in pandas dataframe, con indice relativo all'evento\n",
        "new_df_segnale = pd.DataFrame(data=dic_df, index=ind_max_list)\n",
        "new_df_fondo = pd.DataFrame(data=dic_df_f, index=ind_max_list_fondo)"
      ]
    },
    {
      "cell_type": "markdown",
      "metadata": {
        "id": "wyXirPPuy_Bj"
      },
      "source": [
        "# Padding"
      ]
    },
    {
      "cell_type": "code",
      "execution_count": null,
      "metadata": {
        "id": "W_dHma28dsgY"
      },
      "outputs": [],
      "source": [
        "# controllo il numero di eventi massimo\n",
        "def check_max_event(new_df, max_key):\n",
        "  n_partic_per_event = []\n",
        "  for i in range(max(list(new_df.index))+1):\n",
        "    if type(new_df[max_key].loc[i])==np.float64: # caso in cui abbiamo un unico jet (non posso ciclare su un unico valore)\n",
        "      n_partic_per_event.append(1)\n",
        "    else:\n",
        "      n_partic_per_event.append(new_df[max_key].loc[i].count())\n",
        "\n",
        "  return max(n_partic_per_event)"
      ]
    },
    {
      "cell_type": "code",
      "execution_count": null,
      "metadata": {
        "id": "l2I2-fyDla8t"
      },
      "outputs": [],
      "source": [
        "# computo il numero di slot massimo per evento presente nel dataframe segnale e fondo\n",
        "max_event_segnale = check_max_event(new_df_segnale, max_key)\n",
        "max_event_fondo = check_max_event(new_df_fondo, max_key_fondo)"
      ]
    },
    {
      "cell_type": "code",
      "execution_count": null,
      "metadata": {
        "colab": {
          "base_uri": "https://localhost:8080/"
        },
        "id": "m7XsNaNnr3Sn",
        "outputId": "4bd8ba20-e743-4d0a-aa08-332ed4666136"
      },
      "outputs": [
        {
          "output_type": "stream",
          "name": "stdout",
          "text": [
            "19\n"
          ]
        }
      ],
      "source": [
        "# dovranno essere concatenati, quindi scegliamo il maggiore tra i due\n",
        "max_n_slot = max([max_event_segnale, max_event_fondo])\n",
        "print(max_n_slot)"
      ]
    },
    {
      "cell_type": "code",
      "execution_count": null,
      "metadata": {
        "id": "jdvyzUP4_ZUf"
      },
      "outputs": [],
      "source": [
        "def index_padding(ind_max_list, max_event):\n",
        "  ''' \n",
        "  creo la nuova lista di indici per rendere ogni evento di size \n",
        "  pari alla dimensione massima di un evento\n",
        "  '''\n",
        "  ind_list = []\n",
        "  for i in range(len(ind_max_list)):\n",
        "    if i==(len(ind_max_list)-1): # condizione sull'ultimo valore\n",
        "      ind_list.append(ind_max_list[i])\n",
        "      diff = max_event - ind_list.count(ind_max_list[i])\n",
        "      for j in range(diff):\n",
        "        ind_list.append(ind_max_list[i])\n",
        "      break\n",
        "    ind_list.append(ind_max_list[i])\n",
        "    diff = max_event - ind_list.count(ind_max_list[i])\n",
        "    if diff<0: # volevo essere simpatica\n",
        "      print(ind_max_list[i])\n",
        "      print('Houston, we have a problem!')\n",
        "    if ind_max_list[i+1] > ind_max_list[i]:\n",
        "      for j in range(diff):\n",
        "        ind_list.append(ind_max_list[i])\n",
        "  return ind_list\n",
        "\n",
        "# ind_list è quindi l'indice del dataframe definitivo dopo aver fatto il padding"
      ]
    },
    {
      "cell_type": "code",
      "execution_count": null,
      "metadata": {
        "id": "QjBavRdqnoK_"
      },
      "outputs": [],
      "source": [
        "# unrolling\n",
        "ind_list = index_padding(ind_max_list, max_n_slot)\n",
        "ind_list_fondo = index_padding(ind_max_list_fondo, max_n_slot) "
      ]
    },
    {
      "cell_type": "code",
      "execution_count": null,
      "metadata": {
        "id": "dnUFwqZvidAr"
      },
      "outputs": [],
      "source": [
        "def array_colonne_def(col, new_df, max_event):\n",
        "  colonne_definitive = [] # finalmente\n",
        "\n",
        "  for i in col:\n",
        "    # if 'eta' in i or 'phi' in i:\n",
        "    if 'isTight' in i:\n",
        "      null_var = 0\n",
        "    else:\n",
        "      null_var = -10\n",
        "\n",
        "    col_def = []\n",
        "\n",
        "    for j in range(max(list(new_df.index))+1):\n",
        "\n",
        "      if type(new_df[i].loc[j])==np.float64: # nel caso ci sia un unico jet\n",
        "        diff = max_event - 1\n",
        "        col_def.append(new_df[i].loc[j])\n",
        "        for w in range(diff):\n",
        "            col_def.append(null_var)\n",
        "\n",
        "      else:\n",
        "\n",
        "        diff = max_event - len(list(new_df[i].loc[j]))\n",
        "        for k in list(new_df[i].loc[j]):\n",
        "          col_def.append(k)\n",
        "        for w in range(diff):\n",
        "          col_def.append(null_var)\n",
        "\n",
        "    colonne_definitive.append(col_def)\n",
        "  return colonne_definitive\n"
      ]
    },
    {
      "cell_type": "code",
      "execution_count": null,
      "metadata": {
        "id": "DaubBgMKocui"
      },
      "outputs": [],
      "source": [
        "# colonne_definitive è il dataframe che conta per ogni evento \n",
        "# numero di event_max_size slot particelle\n",
        "\n",
        "colonne_definitive = array_colonne_def(features, new_df_segnale, max_n_slot)\n",
        "colonne_definitive_fondo = array_colonne_def(features, new_df_fondo, max_n_slot)"
      ]
    },
    {
      "cell_type": "code",
      "execution_count": null,
      "metadata": {
        "id": "luIURqfCnGCP"
      },
      "outputs": [],
      "source": [
        "dic_def_df = dict(zip(features, colonne_definitive))\n",
        "dic_def_df_f = dict(zip(features, colonne_definitive_fondo))\n",
        "\n",
        "# l'indice per il fondo deve essere diverso, perché\n",
        "# il df fondo deve essere concatenato con df segnale\n",
        "index_fondo = np.array(ind_list_fondo) + 5000    # ci sono 10000 eventi per df\n",
        "\n",
        "# lo trasformo in pandas dataframe\n",
        "def_df_segnale = pd.DataFrame(data=dic_def_df, index=ind_list)\n",
        "def_df_fondo = pd.DataFrame(data=dic_def_df_f, index=index_fondo)"
      ]
    },
    {
      "cell_type": "code",
      "execution_count": null,
      "metadata": {
        "id": "LY5akT1BfAN9"
      },
      "outputs": [],
      "source": [
        "# magari servirà più in là, boh\n",
        "v1 = TLorentzVector.TLorentzVector.from_ptetaphie(pt=40.124088,\teta= -0.154926,\tphi=-2.44714, energy=40.606724)\n",
        "v2 = TLorentzVector.TLorentzVector.from_ptetaphie(pt=118.894325,\teta=-1.415037, \tphi=1.565296, energy=259.1633)"
      ]
    },
    {
      "cell_type": "code",
      "execution_count": null,
      "metadata": {
        "id": "qFeuYcEBok34"
      },
      "outputs": [],
      "source": [
        "def select_events(df):\n",
        "  '''\n",
        "  questa funzione aggiunge al dataframe la label binaria 'top_label', \n",
        "  essa vale 1 quando:\n",
        "  - ci sono due elettroni 'isTight';\n",
        "  - ci sono due muoni 'isTight';\n",
        "  - c'è un elettrone e un muone, entrambi 'isTight'.\n",
        "  altrimenti vale 0.\n",
        "  'num_events' = 2 perché prendiamo almeno 2 leptoni per evento\n",
        "  '''\n",
        "  label=[]\n",
        "  for i in range(df.index[0], max(df.index)+1):\n",
        "    # se i leptoni sono isolati\n",
        "    if df.loc[i]['electrons_isTightElectron'].sum()+df.loc[i]['muons_isTightMuon'].sum()>=2:\n",
        "      for i in range(max_n_slot):\n",
        "        # label segnale \n",
        "        label.append(1)\n",
        "    else:\n",
        "      for i in range(max_n_slot):\n",
        "        # label fondo\n",
        "        label.append(0)\n",
        "\n",
        "  df['top_label'] = label\n",
        "  # df = df.query('top_label==1')\n",
        "  return df   \n"
      ]
    },
    {
      "cell_type": "code",
      "execution_count": null,
      "metadata": {
        "id": "LG7D-6TMngK2"
      },
      "outputs": [],
      "source": [
        "# creo il dataframe con la label\n",
        "df_stepone = select_events(def_df_segnale)\n",
        "df_stepone_fondo = select_events(def_df_fondo)"
      ]
    },
    {
      "cell_type": "code",
      "execution_count": null,
      "metadata": {
        "colab": {
          "base_uri": "https://localhost:8080/",
          "height": 207
        },
        "id": "9NwMRjd_zkCt",
        "outputId": "261e792a-49eb-4291-9b60-afb853827941"
      },
      "outputs": [
        {
          "output_type": "execute_result",
          "data": {
            "text/plain": [
              "           muons_pt  muons_e  electrons_pt  electrons_e  \\\n",
              "top_label                                                 \n",
              "0             77083    77083         77083        77083   \n",
              "1             17917    17917         17917        17917   \n",
              "\n",
              "           electrons_isTightElectron  muons_isTightMuon  jets_pt  jets_e  \\\n",
              "top_label                                                                  \n",
              "0                              77083              77083    77083   77083   \n",
              "1                              17917              17917    17917   17917   \n",
              "\n",
              "           met_pt  met_phi  muons_eta  muons_phi  electrons_eta  \\\n",
              "top_label                                                         \n",
              "0           77083    77083      77083      77083          77083   \n",
              "1           17917    17917      17917      17917          17917   \n",
              "\n",
              "           electrons_phi  jets_eta  jets_phi  muons_charge  electrons_charge  \n",
              "top_label                                                                     \n",
              "0                  77083     77083     77083         77083             77083  \n",
              "1                  17917     17917     17917         17917             17917  "
            ],
            "text/html": [
              "\n",
              "  <div id=\"df-ebb96b4d-81d3-4589-998b-e39b83ddc93b\">\n",
              "    <div class=\"colab-df-container\">\n",
              "      <div>\n",
              "<style scoped>\n",
              "    .dataframe tbody tr th:only-of-type {\n",
              "        vertical-align: middle;\n",
              "    }\n",
              "\n",
              "    .dataframe tbody tr th {\n",
              "        vertical-align: top;\n",
              "    }\n",
              "\n",
              "    .dataframe thead th {\n",
              "        text-align: right;\n",
              "    }\n",
              "</style>\n",
              "<table border=\"1\" class=\"dataframe\">\n",
              "  <thead>\n",
              "    <tr style=\"text-align: right;\">\n",
              "      <th></th>\n",
              "      <th>muons_pt</th>\n",
              "      <th>muons_e</th>\n",
              "      <th>electrons_pt</th>\n",
              "      <th>electrons_e</th>\n",
              "      <th>electrons_isTightElectron</th>\n",
              "      <th>muons_isTightMuon</th>\n",
              "      <th>jets_pt</th>\n",
              "      <th>jets_e</th>\n",
              "      <th>met_pt</th>\n",
              "      <th>met_phi</th>\n",
              "      <th>muons_eta</th>\n",
              "      <th>muons_phi</th>\n",
              "      <th>electrons_eta</th>\n",
              "      <th>electrons_phi</th>\n",
              "      <th>jets_eta</th>\n",
              "      <th>jets_phi</th>\n",
              "      <th>muons_charge</th>\n",
              "      <th>electrons_charge</th>\n",
              "    </tr>\n",
              "    <tr>\n",
              "      <th>top_label</th>\n",
              "      <th></th>\n",
              "      <th></th>\n",
              "      <th></th>\n",
              "      <th></th>\n",
              "      <th></th>\n",
              "      <th></th>\n",
              "      <th></th>\n",
              "      <th></th>\n",
              "      <th></th>\n",
              "      <th></th>\n",
              "      <th></th>\n",
              "      <th></th>\n",
              "      <th></th>\n",
              "      <th></th>\n",
              "      <th></th>\n",
              "      <th></th>\n",
              "      <th></th>\n",
              "      <th></th>\n",
              "    </tr>\n",
              "  </thead>\n",
              "  <tbody>\n",
              "    <tr>\n",
              "      <th>0</th>\n",
              "      <td>77083</td>\n",
              "      <td>77083</td>\n",
              "      <td>77083</td>\n",
              "      <td>77083</td>\n",
              "      <td>77083</td>\n",
              "      <td>77083</td>\n",
              "      <td>77083</td>\n",
              "      <td>77083</td>\n",
              "      <td>77083</td>\n",
              "      <td>77083</td>\n",
              "      <td>77083</td>\n",
              "      <td>77083</td>\n",
              "      <td>77083</td>\n",
              "      <td>77083</td>\n",
              "      <td>77083</td>\n",
              "      <td>77083</td>\n",
              "      <td>77083</td>\n",
              "      <td>77083</td>\n",
              "    </tr>\n",
              "    <tr>\n",
              "      <th>1</th>\n",
              "      <td>17917</td>\n",
              "      <td>17917</td>\n",
              "      <td>17917</td>\n",
              "      <td>17917</td>\n",
              "      <td>17917</td>\n",
              "      <td>17917</td>\n",
              "      <td>17917</td>\n",
              "      <td>17917</td>\n",
              "      <td>17917</td>\n",
              "      <td>17917</td>\n",
              "      <td>17917</td>\n",
              "      <td>17917</td>\n",
              "      <td>17917</td>\n",
              "      <td>17917</td>\n",
              "      <td>17917</td>\n",
              "      <td>17917</td>\n",
              "      <td>17917</td>\n",
              "      <td>17917</td>\n",
              "    </tr>\n",
              "  </tbody>\n",
              "</table>\n",
              "</div>\n",
              "      <button class=\"colab-df-convert\" onclick=\"convertToInteractive('df-ebb96b4d-81d3-4589-998b-e39b83ddc93b')\"\n",
              "              title=\"Convert this dataframe to an interactive table.\"\n",
              "              style=\"display:none;\">\n",
              "        \n",
              "  <svg xmlns=\"http://www.w3.org/2000/svg\" height=\"24px\"viewBox=\"0 0 24 24\"\n",
              "       width=\"24px\">\n",
              "    <path d=\"M0 0h24v24H0V0z\" fill=\"none\"/>\n",
              "    <path d=\"M18.56 5.44l.94 2.06.94-2.06 2.06-.94-2.06-.94-.94-2.06-.94 2.06-2.06.94zm-11 1L8.5 8.5l.94-2.06 2.06-.94-2.06-.94L8.5 2.5l-.94 2.06-2.06.94zm10 10l.94 2.06.94-2.06 2.06-.94-2.06-.94-.94-2.06-.94 2.06-2.06.94z\"/><path d=\"M17.41 7.96l-1.37-1.37c-.4-.4-.92-.59-1.43-.59-.52 0-1.04.2-1.43.59L10.3 9.45l-7.72 7.72c-.78.78-.78 2.05 0 2.83L4 21.41c.39.39.9.59 1.41.59.51 0 1.02-.2 1.41-.59l7.78-7.78 2.81-2.81c.8-.78.8-2.07 0-2.86zM5.41 20L4 18.59l7.72-7.72 1.47 1.35L5.41 20z\"/>\n",
              "  </svg>\n",
              "      </button>\n",
              "      \n",
              "  <style>\n",
              "    .colab-df-container {\n",
              "      display:flex;\n",
              "      flex-wrap:wrap;\n",
              "      gap: 12px;\n",
              "    }\n",
              "\n",
              "    .colab-df-convert {\n",
              "      background-color: #E8F0FE;\n",
              "      border: none;\n",
              "      border-radius: 50%;\n",
              "      cursor: pointer;\n",
              "      display: none;\n",
              "      fill: #1967D2;\n",
              "      height: 32px;\n",
              "      padding: 0 0 0 0;\n",
              "      width: 32px;\n",
              "    }\n",
              "\n",
              "    .colab-df-convert:hover {\n",
              "      background-color: #E2EBFA;\n",
              "      box-shadow: 0px 1px 2px rgba(60, 64, 67, 0.3), 0px 1px 3px 1px rgba(60, 64, 67, 0.15);\n",
              "      fill: #174EA6;\n",
              "    }\n",
              "\n",
              "    [theme=dark] .colab-df-convert {\n",
              "      background-color: #3B4455;\n",
              "      fill: #D2E3FC;\n",
              "    }\n",
              "\n",
              "    [theme=dark] .colab-df-convert:hover {\n",
              "      background-color: #434B5C;\n",
              "      box-shadow: 0px 1px 3px 1px rgba(0, 0, 0, 0.15);\n",
              "      filter: drop-shadow(0px 1px 2px rgba(0, 0, 0, 0.3));\n",
              "      fill: #FFFFFF;\n",
              "    }\n",
              "  </style>\n",
              "\n",
              "      <script>\n",
              "        const buttonEl =\n",
              "          document.querySelector('#df-ebb96b4d-81d3-4589-998b-e39b83ddc93b button.colab-df-convert');\n",
              "        buttonEl.style.display =\n",
              "          google.colab.kernel.accessAllowed ? 'block' : 'none';\n",
              "\n",
              "        async function convertToInteractive(key) {\n",
              "          const element = document.querySelector('#df-ebb96b4d-81d3-4589-998b-e39b83ddc93b');\n",
              "          const dataTable =\n",
              "            await google.colab.kernel.invokeFunction('convertToInteractive',\n",
              "                                                     [key], {});\n",
              "          if (!dataTable) return;\n",
              "\n",
              "          const docLinkHtml = 'Like what you see? Visit the ' +\n",
              "            '<a target=\"_blank\" href=https://colab.research.google.com/notebooks/data_table.ipynb>data table notebook</a>'\n",
              "            + ' to learn more about interactive tables.';\n",
              "          element.innerHTML = '';\n",
              "          dataTable['output_type'] = 'display_data';\n",
              "          await google.colab.output.renderOutput(dataTable, element);\n",
              "          const docLink = document.createElement('div');\n",
              "          docLink.innerHTML = docLinkHtml;\n",
              "          element.appendChild(docLink);\n",
              "        }\n",
              "      </script>\n",
              "    </div>\n",
              "  </div>\n",
              "  "
            ]
          },
          "metadata": {},
          "execution_count": 35
        }
      ],
      "source": [
        "df_stepone.groupby('top_label').count()"
      ]
    },
    {
      "cell_type": "code",
      "execution_count": null,
      "metadata": {
        "colab": {
          "base_uri": "https://localhost:8080/",
          "height": 207
        },
        "id": "Qhn47gON03nF",
        "outputId": "7636c25a-699a-4c49-a82a-8f949a7f3f1a"
      },
      "outputs": [
        {
          "output_type": "execute_result",
          "data": {
            "text/plain": [
              "           muons_pt  muons_e  electrons_pt  electrons_e  \\\n",
              "top_label                                                 \n",
              "0             74461    74461         74461        74461   \n",
              "1             20539    20539         20539        20539   \n",
              "\n",
              "           electrons_isTightElectron  muons_isTightMuon  jets_pt  jets_e  \\\n",
              "top_label                                                                  \n",
              "0                              74461              74461    74461   74461   \n",
              "1                              20539              20539    20539   20539   \n",
              "\n",
              "           met_pt  met_phi  muons_eta  muons_phi  electrons_eta  \\\n",
              "top_label                                                         \n",
              "0           74461    74461      74461      74461          74461   \n",
              "1           20539    20539      20539      20539          20539   \n",
              "\n",
              "           electrons_phi  jets_eta  jets_phi  muons_charge  electrons_charge  \n",
              "top_label                                                                     \n",
              "0                  74461     74461     74461         74461             74461  \n",
              "1                  20539     20539     20539         20539             20539  "
            ],
            "text/html": [
              "\n",
              "  <div id=\"df-4385f7a5-1cb9-4b94-af1b-8d71913e866e\">\n",
              "    <div class=\"colab-df-container\">\n",
              "      <div>\n",
              "<style scoped>\n",
              "    .dataframe tbody tr th:only-of-type {\n",
              "        vertical-align: middle;\n",
              "    }\n",
              "\n",
              "    .dataframe tbody tr th {\n",
              "        vertical-align: top;\n",
              "    }\n",
              "\n",
              "    .dataframe thead th {\n",
              "        text-align: right;\n",
              "    }\n",
              "</style>\n",
              "<table border=\"1\" class=\"dataframe\">\n",
              "  <thead>\n",
              "    <tr style=\"text-align: right;\">\n",
              "      <th></th>\n",
              "      <th>muons_pt</th>\n",
              "      <th>muons_e</th>\n",
              "      <th>electrons_pt</th>\n",
              "      <th>electrons_e</th>\n",
              "      <th>electrons_isTightElectron</th>\n",
              "      <th>muons_isTightMuon</th>\n",
              "      <th>jets_pt</th>\n",
              "      <th>jets_e</th>\n",
              "      <th>met_pt</th>\n",
              "      <th>met_phi</th>\n",
              "      <th>muons_eta</th>\n",
              "      <th>muons_phi</th>\n",
              "      <th>electrons_eta</th>\n",
              "      <th>electrons_phi</th>\n",
              "      <th>jets_eta</th>\n",
              "      <th>jets_phi</th>\n",
              "      <th>muons_charge</th>\n",
              "      <th>electrons_charge</th>\n",
              "    </tr>\n",
              "    <tr>\n",
              "      <th>top_label</th>\n",
              "      <th></th>\n",
              "      <th></th>\n",
              "      <th></th>\n",
              "      <th></th>\n",
              "      <th></th>\n",
              "      <th></th>\n",
              "      <th></th>\n",
              "      <th></th>\n",
              "      <th></th>\n",
              "      <th></th>\n",
              "      <th></th>\n",
              "      <th></th>\n",
              "      <th></th>\n",
              "      <th></th>\n",
              "      <th></th>\n",
              "      <th></th>\n",
              "      <th></th>\n",
              "      <th></th>\n",
              "    </tr>\n",
              "  </thead>\n",
              "  <tbody>\n",
              "    <tr>\n",
              "      <th>0</th>\n",
              "      <td>74461</td>\n",
              "      <td>74461</td>\n",
              "      <td>74461</td>\n",
              "      <td>74461</td>\n",
              "      <td>74461</td>\n",
              "      <td>74461</td>\n",
              "      <td>74461</td>\n",
              "      <td>74461</td>\n",
              "      <td>74461</td>\n",
              "      <td>74461</td>\n",
              "      <td>74461</td>\n",
              "      <td>74461</td>\n",
              "      <td>74461</td>\n",
              "      <td>74461</td>\n",
              "      <td>74461</td>\n",
              "      <td>74461</td>\n",
              "      <td>74461</td>\n",
              "      <td>74461</td>\n",
              "    </tr>\n",
              "    <tr>\n",
              "      <th>1</th>\n",
              "      <td>20539</td>\n",
              "      <td>20539</td>\n",
              "      <td>20539</td>\n",
              "      <td>20539</td>\n",
              "      <td>20539</td>\n",
              "      <td>20539</td>\n",
              "      <td>20539</td>\n",
              "      <td>20539</td>\n",
              "      <td>20539</td>\n",
              "      <td>20539</td>\n",
              "      <td>20539</td>\n",
              "      <td>20539</td>\n",
              "      <td>20539</td>\n",
              "      <td>20539</td>\n",
              "      <td>20539</td>\n",
              "      <td>20539</td>\n",
              "      <td>20539</td>\n",
              "      <td>20539</td>\n",
              "    </tr>\n",
              "  </tbody>\n",
              "</table>\n",
              "</div>\n",
              "      <button class=\"colab-df-convert\" onclick=\"convertToInteractive('df-4385f7a5-1cb9-4b94-af1b-8d71913e866e')\"\n",
              "              title=\"Convert this dataframe to an interactive table.\"\n",
              "              style=\"display:none;\">\n",
              "        \n",
              "  <svg xmlns=\"http://www.w3.org/2000/svg\" height=\"24px\"viewBox=\"0 0 24 24\"\n",
              "       width=\"24px\">\n",
              "    <path d=\"M0 0h24v24H0V0z\" fill=\"none\"/>\n",
              "    <path d=\"M18.56 5.44l.94 2.06.94-2.06 2.06-.94-2.06-.94-.94-2.06-.94 2.06-2.06.94zm-11 1L8.5 8.5l.94-2.06 2.06-.94-2.06-.94L8.5 2.5l-.94 2.06-2.06.94zm10 10l.94 2.06.94-2.06 2.06-.94-2.06-.94-.94-2.06-.94 2.06-2.06.94z\"/><path d=\"M17.41 7.96l-1.37-1.37c-.4-.4-.92-.59-1.43-.59-.52 0-1.04.2-1.43.59L10.3 9.45l-7.72 7.72c-.78.78-.78 2.05 0 2.83L4 21.41c.39.39.9.59 1.41.59.51 0 1.02-.2 1.41-.59l7.78-7.78 2.81-2.81c.8-.78.8-2.07 0-2.86zM5.41 20L4 18.59l7.72-7.72 1.47 1.35L5.41 20z\"/>\n",
              "  </svg>\n",
              "      </button>\n",
              "      \n",
              "  <style>\n",
              "    .colab-df-container {\n",
              "      display:flex;\n",
              "      flex-wrap:wrap;\n",
              "      gap: 12px;\n",
              "    }\n",
              "\n",
              "    .colab-df-convert {\n",
              "      background-color: #E8F0FE;\n",
              "      border: none;\n",
              "      border-radius: 50%;\n",
              "      cursor: pointer;\n",
              "      display: none;\n",
              "      fill: #1967D2;\n",
              "      height: 32px;\n",
              "      padding: 0 0 0 0;\n",
              "      width: 32px;\n",
              "    }\n",
              "\n",
              "    .colab-df-convert:hover {\n",
              "      background-color: #E2EBFA;\n",
              "      box-shadow: 0px 1px 2px rgba(60, 64, 67, 0.3), 0px 1px 3px 1px rgba(60, 64, 67, 0.15);\n",
              "      fill: #174EA6;\n",
              "    }\n",
              "\n",
              "    [theme=dark] .colab-df-convert {\n",
              "      background-color: #3B4455;\n",
              "      fill: #D2E3FC;\n",
              "    }\n",
              "\n",
              "    [theme=dark] .colab-df-convert:hover {\n",
              "      background-color: #434B5C;\n",
              "      box-shadow: 0px 1px 3px 1px rgba(0, 0, 0, 0.15);\n",
              "      filter: drop-shadow(0px 1px 2px rgba(0, 0, 0, 0.3));\n",
              "      fill: #FFFFFF;\n",
              "    }\n",
              "  </style>\n",
              "\n",
              "      <script>\n",
              "        const buttonEl =\n",
              "          document.querySelector('#df-4385f7a5-1cb9-4b94-af1b-8d71913e866e button.colab-df-convert');\n",
              "        buttonEl.style.display =\n",
              "          google.colab.kernel.accessAllowed ? 'block' : 'none';\n",
              "\n",
              "        async function convertToInteractive(key) {\n",
              "          const element = document.querySelector('#df-4385f7a5-1cb9-4b94-af1b-8d71913e866e');\n",
              "          const dataTable =\n",
              "            await google.colab.kernel.invokeFunction('convertToInteractive',\n",
              "                                                     [key], {});\n",
              "          if (!dataTable) return;\n",
              "\n",
              "          const docLinkHtml = 'Like what you see? Visit the ' +\n",
              "            '<a target=\"_blank\" href=https://colab.research.google.com/notebooks/data_table.ipynb>data table notebook</a>'\n",
              "            + ' to learn more about interactive tables.';\n",
              "          element.innerHTML = '';\n",
              "          dataTable['output_type'] = 'display_data';\n",
              "          await google.colab.output.renderOutput(dataTable, element);\n",
              "          const docLink = document.createElement('div');\n",
              "          docLink.innerHTML = docLinkHtml;\n",
              "          element.appendChild(docLink);\n",
              "        }\n",
              "      </script>\n",
              "    </div>\n",
              "  </div>\n",
              "  "
            ]
          },
          "metadata": {},
          "execution_count": 36
        }
      ],
      "source": [
        "df_stepone_fondo.groupby('top_label').count()"
      ]
    },
    {
      "cell_type": "code",
      "execution_count": null,
      "metadata": {
        "id": "YpeTq94-20lQ"
      },
      "outputs": [],
      "source": [
        "df_stepone = df_stepone.query('top_label==1')\n",
        "df_stepone_fondo = df_stepone_fondo.query('top_label==1')"
      ]
    },
    {
      "cell_type": "code",
      "execution_count": null,
      "metadata": {
        "id": "jZqX8zm3CBtm"
      },
      "outputs": [],
      "source": [
        "def target(df_segnale, df_fondo):\n",
        "  '''\n",
        "  Questa funzione prende in input i dataframe di segnale e fondo, crea la label\n",
        "  per distinguerli e poi fa il merge dei due.\n",
        "  '''\n",
        "  df_segnale['target'] = np.ones((1,df_segnale.shape[0]))[0] # lab = 1\n",
        "  df_fondo['target'] = np.ones((1,df_fondo.shape[0]))[0]*0 # lab = 0\n",
        "\n",
        "  tot_df = pd.concat([df_segnale, df_fondo], axis=0, ignore_index=False)\n",
        "  # il dataframe che ne risulta preserva gli indici di entrambi che segnalano quindi 2k eventi\n",
        "  return tot_df"
      ]
    },
    {
      "cell_type": "code",
      "execution_count": null,
      "metadata": {
        "colab": {
          "base_uri": "https://localhost:8080/"
        },
        "id": "FzVIWhdIDDfK",
        "outputId": "3852fb4a-c6a7-4d3a-e0fe-fe09fc5cea5f"
      },
      "outputs": [
        {
          "output_type": "stream",
          "name": "stderr",
          "text": [
            "/usr/local/lib/python3.7/dist-packages/ipykernel_launcher.py:6: SettingWithCopyWarning: \n",
            "A value is trying to be set on a copy of a slice from a DataFrame.\n",
            "Try using .loc[row_indexer,col_indexer] = value instead\n",
            "\n",
            "See the caveats in the documentation: https://pandas.pydata.org/pandas-docs/stable/user_guide/indexing.html#returning-a-view-versus-a-copy\n",
            "  \n",
            "/usr/local/lib/python3.7/dist-packages/ipykernel_launcher.py:7: SettingWithCopyWarning: \n",
            "A value is trying to be set on a copy of a slice from a DataFrame.\n",
            "Try using .loc[row_indexer,col_indexer] = value instead\n",
            "\n",
            "See the caveats in the documentation: https://pandas.pydata.org/pandas-docs/stable/user_guide/indexing.html#returning-a-view-versus-a-copy\n",
            "  import sys\n"
          ]
        }
      ],
      "source": [
        "tot_df = target(df_stepone, df_stepone_fondo)"
      ]
    },
    {
      "cell_type": "code",
      "source": [
        "tot_df.columns"
      ],
      "metadata": {
        "colab": {
          "base_uri": "https://localhost:8080/"
        },
        "id": "qA4kTyFhoy6d",
        "outputId": "3a35ee7c-0059-4f0b-aa44-3508403f3dae"
      },
      "execution_count": null,
      "outputs": [
        {
          "output_type": "execute_result",
          "data": {
            "text/plain": [
              "Index(['muons_pt', 'muons_e', 'electrons_pt', 'electrons_e',\n",
              "       'electrons_isTightElectron', 'muons_isTightMuon', 'jets_pt', 'jets_e',\n",
              "       'met_pt', 'met_phi', 'muons_eta', 'muons_phi', 'electrons_eta',\n",
              "       'electrons_phi', 'jets_eta', 'jets_phi', 'muons_charge',\n",
              "       'electrons_charge', 'top_label', 'target'],\n",
              "      dtype='object')"
            ]
          },
          "metadata": {},
          "execution_count": 40
        }
      ]
    },
    {
      "cell_type": "code",
      "execution_count": null,
      "metadata": {
        "id": "KK9AnGz5aUY0"
      },
      "outputs": [],
      "source": [
        "def indice_ridotto(df):\n",
        "  indice_ridotto = []\n",
        "  for i in range(int(df.shape[0]/max_n_slot)):\n",
        "    for j in range(max_n_slot):\n",
        "      indice_ridotto.append(i)\n",
        "  df.index = indice_ridotto\n",
        "  return df"
      ]
    },
    {
      "cell_type": "code",
      "execution_count": null,
      "metadata": {
        "id": "PPwo05Qs3QDK"
      },
      "outputs": [],
      "source": [
        "tot_df = indice_ridotto(tot_df)\n",
        "\n",
        "# devo fare lo shuffle sugli eventi, non sulle righe. \n",
        "# Quindi facciamo lo shuffle sugli indici\n",
        "\n",
        "index_list = list(np.array(list(range(int(tot_df.shape[0]/max_n_slot))))) # creo la lista degli indici\n",
        "np.random.shuffle(index_list) # shuffle non ritorna niente, agisce su index_list\n",
        "\n",
        "tot_df = tot_df.loc[index_list]\n",
        "#.sort_index()\n",
        "\n",
        "tot_df.to_csv('tot_df.csv')"
      ]
    },
    {
      "cell_type": "markdown",
      "metadata": {
        "id": "cj58rgImijmZ"
      },
      "source": [
        "# LSTM"
      ]
    },
    {
      "cell_type": "code",
      "execution_count": null,
      "metadata": {
        "id": "cXWmF3tcWBlA"
      },
      "outputs": [],
      "source": [
        "tot_df = pd.read_csv('tot_df.csv')\n",
        "# tot_df['Unnamed: 0']\n",
        "tot_df.index = tot_df['Unnamed: 0']\n",
        "tot_df = tot_df.drop(['Unnamed: 0'], axis=1)"
      ]
    },
    {
      "cell_type": "code",
      "execution_count": null,
      "metadata": {
        "id": "vznkGBh4Brrr"
      },
      "outputs": [],
      "source": [
        "import keras\n",
        "from keras.layers.core import Activation\n",
        "import keras.backend as K\n",
        "from keras.layers import Dense, LSTM, Dropout, Masking, Bidirectional\n",
        "from keras.models import Sequential, load_model, Model, Input\n",
        "from tensorflow.keras.optimizers import Adam,SGD\n",
        "import tensorflow.keras.losses as loss\n",
        "from tensorflow.keras.metrics import Recall, Precision, AUC\n",
        "from tensorflow.keras.callbacks import ReduceLROnPlateau, ModelCheckpoint\n",
        "\n"
      ]
    },
    {
      "cell_type": "code",
      "execution_count": null,
      "metadata": {
        "id": "DgxXYmjSFNZM"
      },
      "outputs": [],
      "source": [
        "def shape_sequence(arr, step):\n",
        "  '''\n",
        "  questa funzione prende in input il dataset (arr), \n",
        "  il numero massimo di particelle in un evento (step)\n",
        "  e l'indice da cui comincia la ricerca (start = 0)\n",
        "  '''\n",
        "  #track=[]\n",
        "  start = 0\n",
        "  out = list()\n",
        "  for i in range(start, arr.shape[0], 19):\n",
        "      low_lim = i\n",
        "      up_lim = low_lim + step\n",
        "      out.append(np.sort(arr[low_lim: up_lim])[::-1])\n",
        "      # print(arr[low_lim: up_lim])\n",
        "\n",
        "      if up_lim == arr.shape[0]: # condizione sull'ultimo evento\n",
        "        break\n",
        "\n",
        "  out_seq = np.array(out)\n",
        "  \n",
        "  return out_seq"
      ]
    },
    {
      "cell_type": "code",
      "execution_count": null,
      "metadata": {
        "id": "by3KnML3DE6x"
      },
      "outputs": [],
      "source": [
        "# trasformo il dataframe in lista\n",
        "x_col = list(tot_df.columns)\n",
        "\n",
        "# rimuovo la colonna della variabile target\n",
        "x_col.remove('target')\n",
        "x_col.remove('electrons_isTightElectron')\n",
        "x_col.remove('muons_isTightMuon')\n",
        "\n",
        "x_col.remove('jets_e')\n",
        "x_col.remove('jets_pt')\n",
        "x_col.remove('jets_eta')\n",
        "x_col.remove('jets_phi')\n",
        "\n",
        "x_col.remove('top_label')\n",
        "X = tot_df[x_col].values\n",
        "\n",
        "# definisco la colonna della variabile target\n",
        "y = tot_df['target'].values\n",
        "\n",
        "# preprocessing per LSTM\n",
        "X= shape_sequence(X, 3)\n",
        "y= shape_sequence(y, 3)\n"
      ]
    },
    {
      "cell_type": "code",
      "source": [
        "X.shape"
      ],
      "metadata": {
        "colab": {
          "base_uri": "https://localhost:8080/"
        },
        "id": "sSkh8zUh9xHi",
        "outputId": "ed5c67c1-3981-4a11-a264-3620c6ea6304"
      },
      "execution_count": null,
      "outputs": [
        {
          "output_type": "execute_result",
          "data": {
            "text/plain": [
              "(2024, 4, 10)"
            ]
          },
          "metadata": {},
          "execution_count": 466
        }
      ]
    },
    {
      "cell_type": "code",
      "execution_count": null,
      "metadata": {
        "id": "XtBZpsSEJz8-"
      },
      "outputs": [],
      "source": [
        "# splitto il dataset in training e test set\n",
        "\n",
        "X_train, X_test, y_train, y_test = train_test_split(X, y, train_size=0.7, shuffle=False)"
      ]
    },
    {
      "cell_type": "code",
      "execution_count": null,
      "metadata": {
        "colab": {
          "base_uri": "https://localhost:8080/"
        },
        "id": "N_c1e3P9d2vY",
        "outputId": "79fc55a0-4e4d-4baf-e6b0-fb87d38e0481"
      },
      "outputs": [
        {
          "output_type": "execute_result",
          "data": {
            "text/plain": [
              "(608, 3)"
            ]
          },
          "metadata": {},
          "execution_count": 345
        }
      ],
      "source": [
        "y_test.shape"
      ]
    },
    {
      "cell_type": "code",
      "execution_count": null,
      "metadata": {
        "colab": {
          "base_uri": "https://localhost:8080/"
        },
        "id": "eeJ8IQvj5e7n",
        "outputId": "8d5ec1b9-9855-4ed8-9f28-958448feddaa"
      },
      "outputs": [
        {
          "output_type": "stream",
          "name": "stdout",
          "text": [
            "Model: \"model\"\n",
            "_________________________________________________________________\n",
            " Layer (type)                Output Shape              Param #   \n",
            "=================================================================\n",
            " input_1 (InputLayer)        [(None, 4, 14)]           0         \n",
            "                                                                 \n",
            " lstm (LSTM)                 (None, 4, 14)             1624      \n",
            "                                                                 \n",
            " lstm_1 (LSTM)               (None, 1)                 64        \n",
            "                                                                 \n",
            "=================================================================\n",
            "Total params: 1,688\n",
            "Trainable params: 1,688\n",
            "Non-trainable params: 0\n",
            "_________________________________________________________________\n",
            "Epoch 1/20\n",
            "45/45 - 6s - loss: 0.7698 - accuracy: 0.5381 - val_loss: 0.6891 - val_accuracy: 0.5247 - lr: 0.0100 - 6s/epoch - 124ms/step\n",
            "Epoch 2/20\n",
            "45/45 - 0s - loss: 0.6435 - accuracy: 0.5381 - val_loss: 0.6242 - val_accuracy: 0.5247 - lr: 0.0100 - 322ms/epoch - 7ms/step\n",
            "Epoch 3/20\n",
            "45/45 - 0s - loss: 0.5883 - accuracy: 0.5403 - val_loss: 0.5701 - val_accuracy: 0.5526 - lr: 0.0100 - 342ms/epoch - 8ms/step\n",
            "Epoch 4/20\n",
            "45/45 - 0s - loss: 0.5243 - accuracy: 0.6363 - val_loss: 0.4939 - val_accuracy: 0.7303 - lr: 0.0100 - 322ms/epoch - 7ms/step\n",
            "Epoch 5/20\n",
            "45/45 - 0s - loss: 0.4574 - accuracy: 0.8051 - val_loss: 0.4308 - val_accuracy: 0.8355 - lr: 0.0100 - 332ms/epoch - 7ms/step\n",
            "Epoch 6/20\n",
            "45/45 - 0s - loss: 0.4412 - accuracy: 0.8821 - val_loss: 0.3994 - val_accuracy: 0.8668 - lr: 0.0100 - 340ms/epoch - 8ms/step\n",
            "Epoch 7/20\n",
            "\n",
            "Epoch 7: ReduceLROnPlateau reducing learning rate to 0.0009999999776482583.\n",
            "45/45 - 0s - loss: 0.4335 - accuracy: 0.8821 - val_loss: 0.4013 - val_accuracy: 0.8799 - lr: 0.0100 - 335ms/epoch - 7ms/step\n",
            "Epoch 8/20\n",
            "45/45 - 0s - loss: 0.3831 - accuracy: 0.8877 - val_loss: 0.3860 - val_accuracy: 0.8783 - lr: 1.0000e-03 - 328ms/epoch - 7ms/step\n",
            "Epoch 9/20\n",
            "\n",
            "Epoch 9: ReduceLROnPlateau reducing learning rate to 9.999999310821295e-05.\n",
            "45/45 - 0s - loss: 0.3816 - accuracy: 0.8891 - val_loss: 0.3879 - val_accuracy: 0.8799 - lr: 1.0000e-03 - 335ms/epoch - 7ms/step\n",
            "Epoch 10/20\n",
            "\n",
            "Epoch 10: ReduceLROnPlateau reducing learning rate to 9.999999019782991e-06.\n",
            "45/45 - 0s - loss: 0.3787 - accuracy: 0.8877 - val_loss: 0.3871 - val_accuracy: 0.8799 - lr: 1.0000e-04 - 308ms/epoch - 7ms/step\n",
            "Epoch 11/20\n",
            "\n",
            "Epoch 11: ReduceLROnPlateau reducing learning rate to 9.99999883788405e-07.\n",
            "45/45 - 0s - loss: 0.3784 - accuracy: 0.8877 - val_loss: 0.3870 - val_accuracy: 0.8799 - lr: 1.0000e-05 - 307ms/epoch - 7ms/step\n",
            "Epoch 12/20\n",
            "\n",
            "Epoch 12: ReduceLROnPlateau reducing learning rate to 1e-07.\n",
            "45/45 - 0s - loss: 0.3784 - accuracy: 0.8877 - val_loss: 0.3870 - val_accuracy: 0.8799 - lr: 1.0000e-06 - 287ms/epoch - 6ms/step\n",
            "Epoch 13/20\n",
            "45/45 - 0s - loss: 0.3784 - accuracy: 0.8877 - val_loss: 0.3870 - val_accuracy: 0.8799 - lr: 1.0000e-07 - 273ms/epoch - 6ms/step\n",
            "Epoch 14/20\n",
            "45/45 - 0s - loss: 0.3784 - accuracy: 0.8877 - val_loss: 0.3870 - val_accuracy: 0.8799 - lr: 1.0000e-07 - 330ms/epoch - 7ms/step\n",
            "Epoch 15/20\n",
            "45/45 - 0s - loss: 0.3784 - accuracy: 0.8877 - val_loss: 0.3870 - val_accuracy: 0.8799 - lr: 1.0000e-07 - 275ms/epoch - 6ms/step\n",
            "Epoch 16/20\n",
            "45/45 - 0s - loss: 0.3784 - accuracy: 0.8877 - val_loss: 0.3870 - val_accuracy: 0.8799 - lr: 1.0000e-07 - 295ms/epoch - 7ms/step\n",
            "Epoch 17/20\n",
            "45/45 - 0s - loss: 0.3784 - accuracy: 0.8877 - val_loss: 0.3870 - val_accuracy: 0.8799 - lr: 1.0000e-07 - 259ms/epoch - 6ms/step\n",
            "Epoch 18/20\n",
            "45/45 - 0s - loss: 0.3784 - accuracy: 0.8877 - val_loss: 0.3870 - val_accuracy: 0.8799 - lr: 1.0000e-07 - 301ms/epoch - 7ms/step\n",
            "Epoch 19/20\n",
            "45/45 - 0s - loss: 0.3784 - accuracy: 0.8877 - val_loss: 0.3870 - val_accuracy: 0.8799 - lr: 1.0000e-07 - 263ms/epoch - 6ms/step\n",
            "Epoch 20/20\n",
            "45/45 - 0s - loss: 0.3784 - accuracy: 0.8877 - val_loss: 0.3870 - val_accuracy: 0.8799 - lr: 1.0000e-07 - 302ms/epoch - 7ms/step\n"
          ]
        }
      ],
      "source": [
        "def create_model(X_train, y_train):\n",
        "\n",
        "  shape = X_train.shape[1] # dimensione dell'evento \n",
        "  feat_length = X_train.shape[2] # numero di features\n",
        "  numberOfLSTMunits = 1\n",
        "\n",
        "  input = Input(shape=(shape, feat_length))\n",
        "  state_h = LSTM(int(feat_length), return_sequences=True) (input)\n",
        "  state_h_2 = LSTM(numberOfLSTMunits) (state_h)\n",
        "  # state_h_3 = Dense(1, activation='relu') (state_h_2)\n",
        "  model = Model(inputs=input, outputs=state_h_2)\n",
        "  model.summary()\n",
        "  opt=SGD()\n",
        "  model.compile(loss='binary_crossentropy', optimizer=opt, metrics=['accuracy'])\n",
        "\n",
        "  return model\n",
        "\n",
        "model_666 = create_model(X_train, y_train)\n",
        "# mcp_save = ModelCheckpoint('/content', save_best_only=True, monitor='accuracy', mode='min')\n",
        "reduce_lr = ReduceLROnPlateau(monitor='val_loss', factor=0.1, patience=1, min_lr=1e-7, verbose=1)\n",
        "history = model_666.fit(X_train, y_train, epochs=20, verbose=2, validation_data=(X_test, y_test), callbacks=[reduce_lr])\n"
      ]
    },
    {
      "cell_type": "code",
      "execution_count": null,
      "metadata": {
        "id": "RoyTo-u4GYu4"
      },
      "outputs": [],
      "source": [
        "def reduce_Y(y):\n",
        "  one_y = []\n",
        "  for i in y:\n",
        "    one_y.append(i[0])\n",
        "  return np.array(one_y)"
      ]
    },
    {
      "cell_type": "code",
      "execution_count": null,
      "metadata": {
        "id": "HSnzcTtw0UWP"
      },
      "outputs": [],
      "source": [
        "def count_label(d_set):\n",
        "  count_0 = 0\n",
        "  count_1 = 0\n",
        "  for i in d_set:\n",
        "    if i[0]==0:\n",
        "      count_0 = count_0 + 1\n",
        "    else:\n",
        "      count_1 = count_1 + 1\n",
        "  print('fondo: ', count_0)\n",
        "  print('segnale ', count_1)"
      ]
    },
    {
      "cell_type": "code",
      "execution_count": null,
      "metadata": {
        "id": "iKnV3G4PtDKR"
      },
      "outputs": [],
      "source": [
        "# shape = X_train.shape[1] # dimensione dell'evento \n",
        "# feat_length = X_train.shape[2] # numero di features\n",
        "\n",
        "# model_1 = Sequential()\n",
        "# # model_1.add(Masking(mask_value=-10, input_shape=(shape, feat_length)))\n",
        "# model_1.add(model)\n",
        "# model_1.compile(loss='binary_crossentropy', optimizer='adam', metrics=['accuracy'])\n",
        "\n",
        "# reduce_lr = ReduceLROnPlateau(monitor='val_loss', factor=0.1, patience=1, min_lr=1e-7, verbose=1)\n",
        "# # mcp_save = ModelCheckpoint('/content', save_best_only=True, monitor='accuracy', mode='min')\n",
        "# history_1 = model.fit(X_train, y_train, epochs=15, verbose=2, validation_data=(X_test, y_test),steps_per_epoch=15, callbacks=[reduce_lr])\n"
      ]
    },
    {
      "cell_type": "code",
      "execution_count": null,
      "metadata": {
        "id": "uoPRcFr-PMoc"
      },
      "outputs": [],
      "source": [
        "y_test = reduce_Y(y_test)\n",
        "y_train = reduce_Y(y_train)"
      ]
    },
    {
      "cell_type": "code",
      "execution_count": null,
      "metadata": {
        "id": "ORPpyi0Dlegd"
      },
      "outputs": [],
      "source": [
        "y_pred = model_666.predict(X_test)"
      ]
    },
    {
      "cell_type": "code",
      "execution_count": null,
      "metadata": {
        "id": "Y8Px56haVxA8"
      },
      "outputs": [],
      "source": [
        "# Definizione fondo e segnale\n",
        "\n",
        "d0 = model_666.predict(X_train[np.where(y_train>0.5)])\n",
        "d1 = model_666.predict(X_train[np.where(y_train<0.5)])\n",
        "\n",
        "d2 = model_666.predict(X_test[np.where(y_test>0.5)])\n",
        "d3 = model_666.predict(X_test[np.where(y_test<0.5)])\n"
      ]
    },
    {
      "cell_type": "code",
      "execution_count": null,
      "metadata": {
        "id": "VvvzGqQkVr6q"
      },
      "outputs": [],
      "source": [
        "# Plot fondo e segnale\n",
        "fig, ax = plt.subplots()\n",
        "ax.hist(d0, color='r', alpha=0.5, range=(0,1), bins=30, histtype='stepfilled', label='Signal (t\\\n",
        "rain)')\n",
        "ax.hist(d1, color='b', alpha=0.5, range=(0,1), bins=30, histtype='stepfilled', label='Backgroun\\\n",
        "d (train)')\n",
        "hist, bins = np.histogram(d2, bins=30, range=(0,1))\n",
        "scale = len(d2) / sum(hist)\n",
        "err = np.sqrt(hist * scale) / scale\n",
        "center = (bins[:-1] + bins[1:]) / 2\n",
        "ax.errorbar(center, hist, yerr=err, fmt='o', c='r', label='Signal (test)')\n",
        "hist, bins = np.histogram(d3, bins=30, range=(0,1))\n",
        "scale = len(d3) / sum(hist)\n",
        "err = np.sqrt(hist * scale) / scale\n",
        "ax.errorbar(center, hist, yerr=err, fmt='o', c='b', label='Background (test)')\n",
        "ax.set_xlabel(\"Output\")\n",
        "ax.set_ylabel(\"Arbitrary units\")\n",
        "# ax.set_title()\n",
        "ax.legend(loc='best')"
      ]
    },
    {
      "cell_type": "code",
      "execution_count": null,
      "metadata": {
        "colab": {
          "base_uri": "https://localhost:8080/",
          "height": 350
        },
        "id": "HxE8-AJoVYW1",
        "outputId": "073344e6-38a2-4c68-92d2-6637a91d8fc5"
      },
      "outputs": [
        {
          "output_type": "display_data",
          "data": {
            "text/plain": [
              "<Figure size 504x360 with 1 Axes>"
            ],
            "image/png": "[encoded data removed]"
          },
          "metadata": {
            "needs_background": "light"
          }
        }
      ],
      "source": [
        "from sklearn.metrics import roc_curve, auc\n",
        "\n",
        "# Roc\n",
        "fpr, tpr, thresholds = roc_curve(y_test, y_pred)\n",
        "roc_auc = auc(fpr,tpr)\n",
        "\n",
        "# Roc plot\n",
        "fig_roc, ax_roc = plt.subplots(figsize=(7, 5))\n",
        "ax_roc.plot(fpr, tpr, lw=2, color='purple',label='full training (auc = %.3f)' % (roc_auc))\n",
        "ax_roc.plot([0, 1], [0, 1], linestyle='--', lw=2, color='k', label='random chance')\n",
        "ax_roc.set_xlim([0, 1.0])\n",
        "ax_roc.set_ylim([0, 1.0])\n",
        "ax_roc.set_xlabel('false positive rate')\n",
        "ax_roc.set_ylabel('true positive rate')\n",
        "ax_roc.set_title('Receiver Operating Curve')\n",
        "ax_roc.grid(True)\n"
      ]
    },
    {
      "cell_type": "code",
      "execution_count": null,
      "metadata": {
        "id": "xIrZTFr7KnW5"
      },
      "outputs": [],
      "source": [
        "y_pred_1 = []\n",
        "for i in y_pred:\n",
        "  if i<0.4 and i>-0.1:\n",
        "    y_pred_1.append(0)\n",
        "  else:\n",
        "    y_pred_1.append(1)\n"
      ]
    },
    {
      "cell_type": "code",
      "execution_count": null,
      "metadata": {
        "id": "zyPArIAppCAt"
      },
      "outputs": [],
      "source": [
        "def accuracy_between_lists(listtrue,listpred):\n",
        "  count=0\n",
        "  for i in range(len(listtrue)):\n",
        "    if listtrue[i]==listpred[i]:\n",
        "      count=count+1\n",
        "  score=count/len(listtrue)\n",
        "  return score    \n",
        "\n",
        "# accuracy_between_lists(y_test_1, y_pred)"
      ]
    },
    {
      "cell_type": "code",
      "execution_count": null,
      "metadata": {
        "id": "JBkmARPtrqhZ"
      },
      "outputs": [],
      "source": [
        "def round_list(list):\n",
        "  for i in range(len(list)):\n",
        "    if list[i]>=0.5:\n",
        "      list[i]=1.0\n",
        "    else:\n",
        "      list[i]=0.0\n",
        "  return list     "
      ]
    },
    {
      "cell_type": "code",
      "execution_count": null,
      "metadata": {
        "id": "oVlMcWurxgFI"
      },
      "outputs": [],
      "source": [
        "# y_pred_model1=model1.predict(X_test)\n",
        "# y_pred_model1"
      ]
    },
    {
      "cell_type": "code",
      "execution_count": null,
      "metadata": {
        "colab": {
          "base_uri": "https://localhost:8080/"
        },
        "id": "2OQd-tXvZiom",
        "outputId": "6efa97d0-b207-43e0-e9f1-c6fbc9af328d"
      },
      "outputs": [
        {
          "output_type": "stream",
          "name": "stdout",
          "text": [
            "19/19 - 1s - loss: 0.5495 - accuracy: 0.8240 - 1s/epoch - 58ms/step\n",
            "Accuracy: 82.40%\n"
          ]
        }
      ],
      "source": [
        "scores = model_666.evaluate(X_test, y_test, verbose=2)\n",
        "print(\"Accuracy: %.2f%%\" % (scores[1]*100))"
      ]
    },
    {
      "cell_type": "code",
      "execution_count": null,
      "metadata": {
        "id": "Ag0lyGWq0sxW"
      },
      "outputs": [],
      "source": [
        "def lstm_test_evaluation_graphs(history):\n",
        "    # summarize history for accuracy\n",
        "    fig_acc = plt.figure(figsize=(10, 10))\n",
        "    plt.plot(history.history['accuracy'])\n",
        "    plt.plot(history.history['val_accuracy'])    \n",
        "    plt.title('model accuracy')\n",
        "    plt.ylabel('accuracy')\n",
        "    plt.xlabel('epoch')\n",
        "    plt.legend(['train', 'test'], loc='upper left')\n",
        "    plt.show()\n",
        "    # fig_acc.savefig(\"model_accuracy.png\")\n",
        "\n",
        "    # summarize history for Loss\n",
        "    fig_acc = plt.figure(figsize=(10, 10))\n",
        "    plt.plot(history.history['loss'])\n",
        "    plt.plot(history.history['val_loss'])\n",
        "    plt.title('model loss')\n",
        "    plt.ylabel('loss')\n",
        "    plt.xlabel('epoch')\n",
        "    plt.legend(['train', 'test'], loc='upper left')\n",
        "    plt.show()\n",
        "    # fig_acc.savefig(\"model_regression_loss.png\")"
      ]
    },
    {
      "cell_type": "code",
      "execution_count": null,
      "metadata": {
        "id": "6ApCO4djMEHH"
      },
      "outputs": [],
      "source": [
        "lstm_test_evaluation_graphs(history)"
      ]
    },
    {
      "cell_type": "markdown",
      "metadata": {
        "id": "Gbcy6sLbJMXK"
      },
      "source": [
        "# **Genetic Algorithm**: ☯"
      ]
    },
    {
      "cell_type": "code",
      "execution_count": null,
      "metadata": {
        "colab": {
          "base_uri": "https://localhost:8080/"
        },
        "id": "O56hca8rJRtq",
        "outputId": "c91e4f82-014a-4bd7-89d8-da7657f822a5"
      },
      "outputs": [
        {
          "output_type": "stream",
          "name": "stdout",
          "text": [
            "Looking in indexes: https://pypi.org/simple, https://us-python.pkg.dev/colab-wheels/public/simple/\n",
            "Requirement already satisfied: deap in /usr/local/lib/python3.7/dist-packages (1.3.1)\n",
            "Requirement already satisfied: numpy in /usr/local/lib/python3.7/dist-packages (from deap) (1.21.6)\n"
          ]
        }
      ],
      "source": [
        "!pip install deap\n",
        "from deap import base\n",
        "from deap import creator\n",
        "from deap import tools\n",
        "import random"
      ]
    },
    {
      "cell_type": "markdown",
      "metadata": {
        "id": "4YEh1F0NK__X"
      },
      "source": [
        "Individual creation"
      ]
    },
    {
      "cell_type": "code",
      "execution_count": null,
      "metadata": {
        "colab": {
          "base_uri": "https://localhost:8080/"
        },
        "id": "FGTYQa_8KfkJ",
        "outputId": "2fee59d3-9003-4b09-9dbb-19c10c701fe9"
      },
      "outputs": [
        {
          "output_type": "stream",
          "name": "stderr",
          "text": [
            "/usr/local/lib/python3.7/dist-packages/deap/creator.py:141: RuntimeWarning: A class named 'FitnessMax' has already been created and it will be overwritten. Consider deleting previous creation of that class or rename it.\n",
            "  RuntimeWarning)\n",
            "/usr/local/lib/python3.7/dist-packages/deap/creator.py:141: RuntimeWarning: A class named 'Individual' has already been created and it will be overwritten. Consider deleting previous creation of that class or rename it.\n",
            "  RuntimeWarning)\n"
          ]
        }
      ],
      "source": [
        "\n",
        "creator.create(\"FitnessMax\", base.Fitness, weights=(1.0,))\n",
        "creator.create(\"Individual\", list, fitness=creator.FitnessMax)\n",
        "\n",
        "toolbox=base.Toolbox()\n",
        "toolbox.register(\"attr\", random.randint, 0, 3)\n",
        "\n",
        "\n",
        "toolbox.register(\"individual\", tools.initRepeat, creator.Individual,\n",
        "                 toolbox.attr,4)\n",
        "\n",
        "toolbox.register(\"population\", tools.initRepeat, list, toolbox.individual)"
      ]
    },
    {
      "cell_type": "markdown",
      "metadata": {
        "id": "hECuHpIULLzE"
      },
      "source": [
        "Fitness function\n"
      ]
    },
    {
      "cell_type": "code",
      "execution_count": null,
      "metadata": {
        "id": "kVTSQnfRLNmm"
      },
      "outputs": [],
      "source": [
        "# global tot_df\n",
        "\n",
        "def EvaluateFeatures(individual):\n",
        "  tot_df = pd.read_csv('tot_df_2.csv')\n",
        "  # tot_df['Unnamed: 0']\n",
        "  tot_df.index = tot_df['Unnamed: 0']\n",
        "  tot_df = tot_df.drop(['Unnamed: 0'], axis=1)\n",
        "  #shuffle sul dataframe\n",
        "  index_list = list(np.array(list(range(int(tot_df.shape[0]/max_n_slot))))) # creo la lista degli indici\n",
        "  np.random.shuffle(index_list) # shuffle non ritorna niente, agisce su index_list\n",
        "\n",
        "  tot_df = tot_df.loc[index_list]\n",
        "\n",
        "  x_col = list(tot_df.columns)\n",
        "\n",
        "  # rimuovo la colonna della variabile target\n",
        "  x_col.remove('target')\n",
        "  x_col.remove('electrons_isTightElectron')\n",
        "  x_col.remove('muons_isTightMuon')\n",
        "  x_col.remove('top_label')\n",
        "\n",
        "  x_col.remove('jets_pt')\n",
        "  x_col.remove('jets_eta')\n",
        "  x_col.remove('jets_phi')\n",
        "  x_col.remove('jets_e')\n",
        "\n",
        "\n",
        "  X = tot_df[x_col].values\n",
        "\n",
        "  # definisco la colonna della variabile target\n",
        "  y = tot_df['target'].values\n",
        "\n",
        "  # preprocessing per LSTM\n",
        "  X= shape_sequence(X, 4)\n",
        "  y= shape_sequence(y, 4)\n",
        "\n",
        "  X_train, X_test, y_train, y_test = train_test_split(X, y, train_size=0.7, shuffle=False)\n",
        "\n",
        "\n",
        "  model1=create_model(X_train,y_train)\n",
        "  \n",
        "  \n",
        "  shape=X_train.shape[1]\n",
        "  feat_length=X_train.shape[2]\n",
        "\n",
        "#l'individuo sarà una lista di 6 componenti fatta di numeri random da 0 a 4\n",
        "#per esempio l'individuo: [0,0,0,0,0,0] corrisponde a scegliere\n",
        "#[1,sigmoid,sigmoid,LSTM(feat_length),0,5]  \n",
        "\n",
        "#la struttura generale dell'individuo è quindi:\n",
        "#[n_layers,activation,rec_activation,layers,semifinal_layer,number_epochs]\n",
        "\n",
        "  list_of_n_layers=[1,3,5,8] #individual[0]\n",
        "  list_of_activation=['sigmoid','relu','softmax','tanh']  #individual[1]\n",
        "  list_of_rec_activation=['sigmoid','relu','softmax','tanh'] #individual[2]\n",
        "  list_number_of_epochs=[5,10,20,30] #individual[3]\n",
        "  \n",
        "  model=Sequential()\n",
        "  for i in range(list_of_n_layers[individual[0]]):\n",
        "    model.add(LSTM((feat_length), input_shape=(shape,feat_length),activation=list_of_activation[individual[1]], recurrent_activation=list_of_rec_activation[individual[2]], return_sequences=True))\n",
        "  model.add(model1)  \n",
        "  reduce_lr = ReduceLROnPlateau(monitor='loss', factor=0.1, patience=1, min_lr=1e-7, verbose=1)\n",
        "  opt=SGD(lr=0.01)\n",
        "  model.compile(loss='binary_crossentropy', optimizer=opt, metrics=['accuracy'])\n",
        "\n",
        "  model.fit(X_train, y_train, epochs=list_number_of_epochs[individual[3]],callbacks=[reduce_lr], verbose=2)\n",
        "  score = model.evaluate(X_test, y_test)\n",
        "  return (score[1],)\n",
        "\n",
        "\n",
        "\n"
      ]
    },
    {
      "cell_type": "code",
      "execution_count": null,
      "metadata": {
        "id": "D2vIg0Ntdr0q"
      },
      "outputs": [],
      "source": [
        "toolbox.register(\"evaluate\", EvaluateFeatures)\n",
        "toolbox.register(\"mate\", tools.cxTwoPoint)\n",
        "toolbox.register(\"mutate\", tools.mutUniformInt,low=0,up=3, indpb=0.2)\n",
        "toolbox.register(\"select\", tools.selTournament, tournsize=3)\n",
        "\n",
        "stats = tools.Statistics(key=lambda ind: ind.fitness.values)\n",
        "stats.register(\"avg\", np.mean)\n",
        "stats.register(\"std\", np.std)\n",
        "stats.register(\"min\", np.min)\n",
        "stats.register(\"max\", np.max)\n",
        "\n",
        "logbook=tools.Logbook()\n",
        "random.seed(69)"
      ]
    },
    {
      "cell_type": "code",
      "execution_count": null,
      "metadata": {
        "colab": {
          "base_uri": "https://localhost:8080/",
          "height": 921
        },
        "id": "bE74sNL5ex1t",
        "outputId": "8e1cd5d7-8125-4ad2-b22e-0f7e8ae0eb96"
      },
      "outputs": [
        {
          "output_type": "stream",
          "name": "stdout",
          "text": [
            "Start of evolution\n",
            "Model: \"model_693\"\n",
            "_________________________________________________________________\n",
            " Layer (type)                Output Shape              Param #   \n",
            "=================================================================\n",
            " input_694 (InputLayer)      [(None, 4, 10)]           0         \n",
            "                                                                 \n",
            " lstm_3084 (LSTM)            (None, 4, 10)             840       \n",
            "                                                                 \n",
            " lstm_3085 (LSTM)            (None, 1)                 48        \n",
            "                                                                 \n",
            "=================================================================\n",
            "Total params: 888\n",
            "Trainable params: 888\n",
            "Non-trainable params: 0\n",
            "_________________________________________________________________\n",
            "Epoch 1/5\n"
          ]
        },
        {
          "output_type": "stream",
          "name": "stderr",
          "text": [
            "/usr/local/lib/python3.7/dist-packages/keras/optimizer_v2/gradient_descent.py:102: UserWarning: The `lr` argument is deprecated, use `learning_rate` instead.\n",
            "  super(SGD, self).__init__(name, **kwargs)\n"
          ]
        },
        {
          "output_type": "stream",
          "name": "stdout",
          "text": [
            "45/45 - 17s - loss: 1.8899 - accuracy: 0.5734 - lr: 0.0100 - 17s/epoch - 371ms/step\n",
            "Epoch 2/5\n",
            "45/45 - 1s - loss: 0.5803 - accuracy: 0.7790 - lr: 0.0100 - 836ms/epoch - 19ms/step\n",
            "Epoch 3/5\n",
            "45/45 - 1s - loss: 0.5142 - accuracy: 0.7952 - lr: 0.0100 - 769ms/epoch - 17ms/step\n",
            "Epoch 4/5\n",
            "45/45 - 1s - loss: 0.4426 - accuracy: 0.8213 - lr: 0.0100 - 775ms/epoch - 17ms/step\n",
            "Epoch 5/5\n",
            "45/45 - 1s - loss: 0.3872 - accuracy: 0.8623 - lr: 0.0100 - 740ms/epoch - 16ms/step\n",
            "19/19 [==============================] - 6s 12ms/step - loss: 0.3635 - accuracy: 0.8931\n"
          ]
        },
        {
          "output_type": "error",
          "ename": "KeyboardInterrupt",
          "evalue": "ignored",
          "traceback": [
            "\u001b[0;31m---------------------------------------------------------------------------\u001b[0m",
            "\u001b[0;31mKeyboardInterrupt\u001b[0m                         Traceback (most recent call last)",
            "\u001b[0;32m<ipython-input-366-749ad707451f>\u001b[0m in \u001b[0;36m<module>\u001b[0;34m()\u001b[0m\n\u001b[1;32m      8\u001b[0m \u001b[0;34m\u001b[0m\u001b[0m\n\u001b[1;32m      9\u001b[0m \u001b[0;31m# Evaluate the entire population\u001b[0m\u001b[0;34m\u001b[0m\u001b[0;34m\u001b[0m\u001b[0;34m\u001b[0m\u001b[0m\n\u001b[0;32m---> 10\u001b[0;31m \u001b[0mfitnesses\u001b[0m \u001b[0;34m=\u001b[0m \u001b[0mlist\u001b[0m\u001b[0;34m(\u001b[0m\u001b[0mmap\u001b[0m\u001b[0;34m(\u001b[0m\u001b[0mtoolbox\u001b[0m\u001b[0;34m.\u001b[0m\u001b[0mevaluate\u001b[0m\u001b[0;34m,\u001b[0m \u001b[0mpop\u001b[0m\u001b[0;34m)\u001b[0m\u001b[0;34m)\u001b[0m\u001b[0;34m\u001b[0m\u001b[0;34m\u001b[0m\u001b[0m\n\u001b[0m\u001b[1;32m     11\u001b[0m \u001b[0;34m\u001b[0m\u001b[0m\n\u001b[1;32m     12\u001b[0m \u001b[0mprint\u001b[0m\u001b[0;34m(\u001b[0m\u001b[0mtype\u001b[0m\u001b[0;34m(\u001b[0m\u001b[0mfitnesses\u001b[0m\u001b[0;34m)\u001b[0m\u001b[0;34m)\u001b[0m\u001b[0;34m\u001b[0m\u001b[0;34m\u001b[0m\u001b[0m\n",
            "\u001b[0;32m<ipython-input-364-b8ea23d89cbe>\u001b[0m in \u001b[0;36mEvaluateFeatures\u001b[0;34m(individual)\u001b[0m\n\u001b[1;32m     38\u001b[0m \u001b[0;34m\u001b[0m\u001b[0m\n\u001b[1;32m     39\u001b[0m \u001b[0;34m\u001b[0m\u001b[0m\n\u001b[0;32m---> 40\u001b[0;31m   \u001b[0mmodel1\u001b[0m\u001b[0;34m=\u001b[0m\u001b[0mcreate_model\u001b[0m\u001b[0;34m(\u001b[0m\u001b[0mX_train\u001b[0m\u001b[0;34m,\u001b[0m\u001b[0my_train\u001b[0m\u001b[0;34m)\u001b[0m\u001b[0;34m\u001b[0m\u001b[0;34m\u001b[0m\u001b[0m\n\u001b[0m\u001b[1;32m     41\u001b[0m \u001b[0;34m\u001b[0m\u001b[0m\n\u001b[1;32m     42\u001b[0m \u001b[0;34m\u001b[0m\u001b[0m\n",
            "\u001b[0;32m<ipython-input-346-76c22e203276>\u001b[0m in \u001b[0;36mcreate_model\u001b[0;34m(X_train, y_train)\u001b[0m\n\u001b[1;32m      7\u001b[0m   \u001b[0minput\u001b[0m \u001b[0;34m=\u001b[0m \u001b[0mInput\u001b[0m\u001b[0;34m(\u001b[0m\u001b[0mshape\u001b[0m\u001b[0;34m=\u001b[0m\u001b[0;34m(\u001b[0m\u001b[0mshape\u001b[0m\u001b[0;34m,\u001b[0m \u001b[0mfeat_length\u001b[0m\u001b[0;34m)\u001b[0m\u001b[0;34m)\u001b[0m\u001b[0;34m\u001b[0m\u001b[0;34m\u001b[0m\u001b[0m\n\u001b[1;32m      8\u001b[0m   \u001b[0mstate_h\u001b[0m \u001b[0;34m=\u001b[0m \u001b[0mLSTM\u001b[0m\u001b[0;34m(\u001b[0m\u001b[0mint\u001b[0m\u001b[0;34m(\u001b[0m\u001b[0mfeat_length\u001b[0m\u001b[0;34m)\u001b[0m\u001b[0;34m,\u001b[0m \u001b[0mreturn_sequences\u001b[0m\u001b[0;34m=\u001b[0m\u001b[0;32mTrue\u001b[0m\u001b[0;34m)\u001b[0m \u001b[0;34m(\u001b[0m\u001b[0minput\u001b[0m\u001b[0;34m)\u001b[0m\u001b[0;34m\u001b[0m\u001b[0;34m\u001b[0m\u001b[0m\n\u001b[0;32m----> 9\u001b[0;31m   \u001b[0mstate_h_2\u001b[0m \u001b[0;34m=\u001b[0m \u001b[0mLSTM\u001b[0m\u001b[0;34m(\u001b[0m\u001b[0mnumberOfLSTMunits\u001b[0m\u001b[0;34m)\u001b[0m \u001b[0;34m(\u001b[0m\u001b[0mstate_h\u001b[0m\u001b[0;34m)\u001b[0m\u001b[0;34m\u001b[0m\u001b[0;34m\u001b[0m\u001b[0m\n\u001b[0m\u001b[1;32m     10\u001b[0m   \u001b[0;31m# state_h_3 = Dense(1, activation='relu') (state_h_2)\u001b[0m\u001b[0;34m\u001b[0m\u001b[0;34m\u001b[0m\u001b[0;34m\u001b[0m\u001b[0m\n\u001b[1;32m     11\u001b[0m   \u001b[0mmodel\u001b[0m \u001b[0;34m=\u001b[0m \u001b[0mModel\u001b[0m\u001b[0;34m(\u001b[0m\u001b[0minputs\u001b[0m\u001b[0;34m=\u001b[0m\u001b[0minput\u001b[0m\u001b[0;34m,\u001b[0m \u001b[0moutputs\u001b[0m\u001b[0;34m=\u001b[0m\u001b[0mstate_h_2\u001b[0m\u001b[0;34m)\u001b[0m\u001b[0;34m\u001b[0m\u001b[0;34m\u001b[0m\u001b[0m\n",
            "\u001b[0;32m/usr/local/lib/python3.7/dist-packages/keras/layers/recurrent.py\u001b[0m in \u001b[0;36m__call__\u001b[0;34m(self, inputs, initial_state, constants, **kwargs)\u001b[0m\n\u001b[1;32m    677\u001b[0m \u001b[0;34m\u001b[0m\u001b[0m\n\u001b[1;32m    678\u001b[0m     \u001b[0;32mif\u001b[0m \u001b[0minitial_state\u001b[0m \u001b[0;32mis\u001b[0m \u001b[0;32mNone\u001b[0m \u001b[0;32mand\u001b[0m \u001b[0mconstants\u001b[0m \u001b[0;32mis\u001b[0m \u001b[0;32mNone\u001b[0m\u001b[0;34m:\u001b[0m\u001b[0;34m\u001b[0m\u001b[0;34m\u001b[0m\u001b[0m\n\u001b[0;32m--> 679\u001b[0;31m       \u001b[0;32mreturn\u001b[0m \u001b[0msuper\u001b[0m\u001b[0;34m(\u001b[0m\u001b[0mRNN\u001b[0m\u001b[0;34m,\u001b[0m \u001b[0mself\u001b[0m\u001b[0;34m)\u001b[0m\u001b[0;34m.\u001b[0m\u001b[0m__call__\u001b[0m\u001b[0;34m(\u001b[0m\u001b[0minputs\u001b[0m\u001b[0;34m,\u001b[0m \u001b[0;34m**\u001b[0m\u001b[0mkwargs\u001b[0m\u001b[0;34m)\u001b[0m\u001b[0;34m\u001b[0m\u001b[0;34m\u001b[0m\u001b[0m\n\u001b[0m\u001b[1;32m    680\u001b[0m \u001b[0;34m\u001b[0m\u001b[0m\n\u001b[1;32m    681\u001b[0m     \u001b[0;31m# If any of `initial_state` or `constants` are specified and are Keras\u001b[0m\u001b[0;34m\u001b[0m\u001b[0;34m\u001b[0m\u001b[0;34m\u001b[0m\u001b[0m\n",
            "\u001b[0;32m/usr/local/lib/python3.7/dist-packages/keras/utils/traceback_utils.py\u001b[0m in \u001b[0;36merror_handler\u001b[0;34m(*args, **kwargs)\u001b[0m\n\u001b[1;32m     62\u001b[0m     \u001b[0mfiltered_tb\u001b[0m \u001b[0;34m=\u001b[0m \u001b[0;32mNone\u001b[0m\u001b[0;34m\u001b[0m\u001b[0;34m\u001b[0m\u001b[0m\n\u001b[1;32m     63\u001b[0m     \u001b[0;32mtry\u001b[0m\u001b[0;34m:\u001b[0m\u001b[0;34m\u001b[0m\u001b[0;34m\u001b[0m\u001b[0m\n\u001b[0;32m---> 64\u001b[0;31m       \u001b[0;32mreturn\u001b[0m \u001b[0mfn\u001b[0m\u001b[0;34m(\u001b[0m\u001b[0;34m*\u001b[0m\u001b[0margs\u001b[0m\u001b[0;34m,\u001b[0m \u001b[0;34m**\u001b[0m\u001b[0mkwargs\u001b[0m\u001b[0;34m)\u001b[0m\u001b[0;34m\u001b[0m\u001b[0;34m\u001b[0m\u001b[0m\n\u001b[0m\u001b[1;32m     65\u001b[0m     \u001b[0;32mexcept\u001b[0m \u001b[0mException\u001b[0m \u001b[0;32mas\u001b[0m \u001b[0me\u001b[0m\u001b[0;34m:\u001b[0m  \u001b[0;31m# pylint: disable=broad-except\u001b[0m\u001b[0;34m\u001b[0m\u001b[0;34m\u001b[0m\u001b[0m\n\u001b[1;32m     66\u001b[0m       \u001b[0mfiltered_tb\u001b[0m \u001b[0;34m=\u001b[0m \u001b[0m_process_traceback_frames\u001b[0m\u001b[0;34m(\u001b[0m\u001b[0me\u001b[0m\u001b[0;34m.\u001b[0m\u001b[0m__traceback__\u001b[0m\u001b[0;34m)\u001b[0m\u001b[0;34m\u001b[0m\u001b[0;34m\u001b[0m\u001b[0m\n",
            "\u001b[0;32m/usr/local/lib/python3.7/dist-packages/keras/engine/base_layer.py\u001b[0m in \u001b[0;36m__call__\u001b[0;34m(self, *args, **kwargs)\u001b[0m\n\u001b[1;32m   1031\u001b[0m     \u001b[0;32mif\u001b[0m \u001b[0m_in_functional_construction_mode\u001b[0m\u001b[0;34m(\u001b[0m\u001b[0mself\u001b[0m\u001b[0;34m,\u001b[0m \u001b[0minputs\u001b[0m\u001b[0;34m,\u001b[0m \u001b[0margs\u001b[0m\u001b[0;34m,\u001b[0m \u001b[0mkwargs\u001b[0m\u001b[0;34m,\u001b[0m \u001b[0minput_list\u001b[0m\u001b[0;34m)\u001b[0m\u001b[0;34m:\u001b[0m\u001b[0;34m\u001b[0m\u001b[0;34m\u001b[0m\u001b[0m\n\u001b[1;32m   1032\u001b[0m       return self._functional_construction_call(inputs, args, kwargs,\n\u001b[0;32m-> 1033\u001b[0;31m                                                 input_list)\n\u001b[0m\u001b[1;32m   1034\u001b[0m \u001b[0;34m\u001b[0m\u001b[0m\n\u001b[1;32m   1035\u001b[0m     \u001b[0;31m# Maintains info about the `Layer.call` stack.\u001b[0m\u001b[0;34m\u001b[0m\u001b[0;34m\u001b[0m\u001b[0;34m\u001b[0m\u001b[0m\n",
            "\u001b[0;32m/usr/local/lib/python3.7/dist-packages/keras/engine/base_layer.py\u001b[0m in \u001b[0;36m_functional_construction_call\u001b[0;34m(self, inputs, args, kwargs, input_list)\u001b[0m\n\u001b[1;32m   1172\u001b[0m       \u001b[0;31m# Check input assumptions set after layer building, e.g. input shape.\u001b[0m\u001b[0;34m\u001b[0m\u001b[0;34m\u001b[0m\u001b[0;34m\u001b[0m\u001b[0m\n\u001b[1;32m   1173\u001b[0m       outputs = self._keras_tensor_symbolic_call(\n\u001b[0;32m-> 1174\u001b[0;31m           inputs, input_masks, args, kwargs)\n\u001b[0m\u001b[1;32m   1175\u001b[0m \u001b[0;34m\u001b[0m\u001b[0m\n\u001b[1;32m   1176\u001b[0m       \u001b[0;32mif\u001b[0m \u001b[0moutputs\u001b[0m \u001b[0;32mis\u001b[0m \u001b[0;32mNone\u001b[0m\u001b[0;34m:\u001b[0m\u001b[0;34m\u001b[0m\u001b[0;34m\u001b[0m\u001b[0m\n",
            "\u001b[0;32m/usr/local/lib/python3.7/dist-packages/keras/engine/base_layer.py\u001b[0m in \u001b[0;36m_keras_tensor_symbolic_call\u001b[0;34m(self, inputs, input_masks, args, kwargs)\u001b[0m\n\u001b[1;32m    895\u001b[0m       \u001b[0;32mreturn\u001b[0m \u001b[0mtf\u001b[0m\u001b[0;34m.\u001b[0m\u001b[0mnest\u001b[0m\u001b[0;34m.\u001b[0m\u001b[0mmap_structure\u001b[0m\u001b[0;34m(\u001b[0m\u001b[0mkeras_tensor\u001b[0m\u001b[0;34m.\u001b[0m\u001b[0mKerasTensor\u001b[0m\u001b[0;34m,\u001b[0m \u001b[0moutput_signature\u001b[0m\u001b[0;34m)\u001b[0m\u001b[0;34m\u001b[0m\u001b[0;34m\u001b[0m\u001b[0m\n\u001b[1;32m    896\u001b[0m     \u001b[0;32melse\u001b[0m\u001b[0;34m:\u001b[0m\u001b[0;34m\u001b[0m\u001b[0;34m\u001b[0m\u001b[0m\n\u001b[0;32m--> 897\u001b[0;31m       \u001b[0;32mreturn\u001b[0m \u001b[0mself\u001b[0m\u001b[0;34m.\u001b[0m\u001b[0m_infer_output_signature\u001b[0m\u001b[0;34m(\u001b[0m\u001b[0minputs\u001b[0m\u001b[0;34m,\u001b[0m \u001b[0margs\u001b[0m\u001b[0;34m,\u001b[0m \u001b[0mkwargs\u001b[0m\u001b[0;34m,\u001b[0m \u001b[0minput_masks\u001b[0m\u001b[0;34m)\u001b[0m\u001b[0;34m\u001b[0m\u001b[0;34m\u001b[0m\u001b[0m\n\u001b[0m\u001b[1;32m    898\u001b[0m \u001b[0;34m\u001b[0m\u001b[0m\n\u001b[1;32m    899\u001b[0m   \u001b[0;32mdef\u001b[0m \u001b[0m_infer_output_signature\u001b[0m\u001b[0;34m(\u001b[0m\u001b[0mself\u001b[0m\u001b[0;34m,\u001b[0m \u001b[0minputs\u001b[0m\u001b[0;34m,\u001b[0m \u001b[0margs\u001b[0m\u001b[0;34m,\u001b[0m \u001b[0mkwargs\u001b[0m\u001b[0;34m,\u001b[0m \u001b[0minput_masks\u001b[0m\u001b[0;34m)\u001b[0m\u001b[0;34m:\u001b[0m\u001b[0;34m\u001b[0m\u001b[0;34m\u001b[0m\u001b[0m\n",
            "\u001b[0;32m/usr/local/lib/python3.7/dist-packages/keras/engine/base_layer.py\u001b[0m in \u001b[0;36m_infer_output_signature\u001b[0;34m(self, inputs, args, kwargs, input_masks)\u001b[0m\n\u001b[1;32m    940\u001b[0m           \u001b[0mself\u001b[0m\u001b[0;34m.\u001b[0m\u001b[0m_maybe_build\u001b[0m\u001b[0;34m(\u001b[0m\u001b[0minputs\u001b[0m\u001b[0;34m)\u001b[0m\u001b[0;34m\u001b[0m\u001b[0;34m\u001b[0m\u001b[0m\n\u001b[1;32m    941\u001b[0m           \u001b[0minputs\u001b[0m \u001b[0;34m=\u001b[0m \u001b[0mself\u001b[0m\u001b[0;34m.\u001b[0m\u001b[0m_maybe_cast_inputs\u001b[0m\u001b[0;34m(\u001b[0m\u001b[0minputs\u001b[0m\u001b[0;34m)\u001b[0m\u001b[0;34m\u001b[0m\u001b[0;34m\u001b[0m\u001b[0m\n\u001b[0;32m--> 942\u001b[0;31m           \u001b[0moutputs\u001b[0m \u001b[0;34m=\u001b[0m \u001b[0mcall_fn\u001b[0m\u001b[0;34m(\u001b[0m\u001b[0minputs\u001b[0m\u001b[0;34m,\u001b[0m \u001b[0;34m*\u001b[0m\u001b[0margs\u001b[0m\u001b[0;34m,\u001b[0m \u001b[0;34m**\u001b[0m\u001b[0mkwargs\u001b[0m\u001b[0;34m)\u001b[0m\u001b[0;34m\u001b[0m\u001b[0;34m\u001b[0m\u001b[0m\n\u001b[0m\u001b[1;32m    943\u001b[0m \u001b[0;34m\u001b[0m\u001b[0m\n\u001b[1;32m    944\u001b[0m         \u001b[0mself\u001b[0m\u001b[0;34m.\u001b[0m\u001b[0m_handle_activity_regularization\u001b[0m\u001b[0;34m(\u001b[0m\u001b[0minputs\u001b[0m\u001b[0;34m,\u001b[0m \u001b[0moutputs\u001b[0m\u001b[0;34m)\u001b[0m\u001b[0;34m\u001b[0m\u001b[0;34m\u001b[0m\u001b[0m\n",
            "\u001b[0;32m/usr/local/lib/python3.7/dist-packages/keras/utils/traceback_utils.py\u001b[0m in \u001b[0;36merror_handler\u001b[0;34m(*args, **kwargs)\u001b[0m\n\u001b[1;32m     90\u001b[0m     \u001b[0mbound_signature\u001b[0m \u001b[0;34m=\u001b[0m \u001b[0;32mNone\u001b[0m\u001b[0;34m\u001b[0m\u001b[0;34m\u001b[0m\u001b[0m\n\u001b[1;32m     91\u001b[0m     \u001b[0;32mtry\u001b[0m\u001b[0;34m:\u001b[0m\u001b[0;34m\u001b[0m\u001b[0;34m\u001b[0m\u001b[0m\n\u001b[0;32m---> 92\u001b[0;31m       \u001b[0;32mreturn\u001b[0m \u001b[0mfn\u001b[0m\u001b[0;34m(\u001b[0m\u001b[0;34m*\u001b[0m\u001b[0margs\u001b[0m\u001b[0;34m,\u001b[0m \u001b[0;34m**\u001b[0m\u001b[0mkwargs\u001b[0m\u001b[0;34m)\u001b[0m\u001b[0;34m\u001b[0m\u001b[0;34m\u001b[0m\u001b[0m\n\u001b[0m\u001b[1;32m     93\u001b[0m     \u001b[0;32mexcept\u001b[0m \u001b[0mException\u001b[0m \u001b[0;32mas\u001b[0m \u001b[0me\u001b[0m\u001b[0;34m:\u001b[0m  \u001b[0;31m# pylint: disable=broad-except\u001b[0m\u001b[0;34m\u001b[0m\u001b[0;34m\u001b[0m\u001b[0m\n\u001b[1;32m     94\u001b[0m       \u001b[0;32mif\u001b[0m \u001b[0mhasattr\u001b[0m\u001b[0;34m(\u001b[0m\u001b[0me\u001b[0m\u001b[0;34m,\u001b[0m \u001b[0;34m'_keras_call_info_injected'\u001b[0m\u001b[0;34m)\u001b[0m\u001b[0;34m:\u001b[0m\u001b[0;34m\u001b[0m\u001b[0;34m\u001b[0m\u001b[0m\n",
            "\u001b[0;32m/usr/local/lib/python3.7/dist-packages/keras/layers/recurrent_v2.py\u001b[0m in \u001b[0;36mcall\u001b[0;34m(self, inputs, mask, training, initial_state)\u001b[0m\n\u001b[1;32m   1253\u001b[0m         \u001b[0;32melse\u001b[0m\u001b[0;34m:\u001b[0m\u001b[0;34m\u001b[0m\u001b[0;34m\u001b[0m\u001b[0m\n\u001b[1;32m   1254\u001b[0m           (last_output, outputs, new_h, new_c,\n\u001b[0;32m-> 1255\u001b[0;31m            runtime) = lstm_with_backend_selection(**normal_lstm_kwargs)\n\u001b[0m\u001b[1;32m   1256\u001b[0m \u001b[0;34m\u001b[0m\u001b[0m\n\u001b[1;32m   1257\u001b[0m       \u001b[0mstates\u001b[0m \u001b[0;34m=\u001b[0m \u001b[0;34m[\u001b[0m\u001b[0mnew_h\u001b[0m\u001b[0;34m,\u001b[0m \u001b[0mnew_c\u001b[0m\u001b[0;34m]\u001b[0m\u001b[0;34m\u001b[0m\u001b[0;34m\u001b[0m\u001b[0m\n",
            "\u001b[0;32m/usr/local/lib/python3.7/dist-packages/keras/layers/recurrent_v2.py\u001b[0m in \u001b[0;36mlstm_with_backend_selection\u001b[0;34m(inputs, init_h, init_c, kernel, recurrent_kernel, bias, mask, time_major, go_backwards, sequence_lengths, zero_output_for_mask)\u001b[0m\n\u001b[1;32m   1648\u001b[0m     \u001b[0;31m# Call the normal LSTM impl and register the cuDNN impl function. The\u001b[0m\u001b[0;34m\u001b[0m\u001b[0;34m\u001b[0m\u001b[0;34m\u001b[0m\u001b[0m\n\u001b[1;32m   1649\u001b[0m     \u001b[0;31m# grappler will kick in during session execution to optimize the graph.\u001b[0m\u001b[0;34m\u001b[0m\u001b[0;34m\u001b[0m\u001b[0;34m\u001b[0m\u001b[0m\n\u001b[0;32m-> 1650\u001b[0;31m     \u001b[0mlast_output\u001b[0m\u001b[0;34m,\u001b[0m \u001b[0moutputs\u001b[0m\u001b[0;34m,\u001b[0m \u001b[0mnew_h\u001b[0m\u001b[0;34m,\u001b[0m \u001b[0mnew_c\u001b[0m\u001b[0;34m,\u001b[0m \u001b[0mruntime\u001b[0m \u001b[0;34m=\u001b[0m \u001b[0mdefun_standard_lstm\u001b[0m\u001b[0;34m(\u001b[0m\u001b[0;34m**\u001b[0m\u001b[0mparams\u001b[0m\u001b[0;34m)\u001b[0m\u001b[0;34m\u001b[0m\u001b[0;34m\u001b[0m\u001b[0m\n\u001b[0m\u001b[1;32m   1651\u001b[0m     \u001b[0m_function_register\u001b[0m\u001b[0;34m(\u001b[0m\u001b[0mdefun_gpu_lstm\u001b[0m\u001b[0;34m,\u001b[0m \u001b[0;34m**\u001b[0m\u001b[0mparams\u001b[0m\u001b[0;34m)\u001b[0m\u001b[0;34m\u001b[0m\u001b[0;34m\u001b[0m\u001b[0m\n\u001b[1;32m   1652\u001b[0m \u001b[0;34m\u001b[0m\u001b[0m\n",
            "\u001b[0;32m/usr/local/lib/python3.7/dist-packages/tensorflow/python/eager/function.py\u001b[0m in \u001b[0;36m__call__\u001b[0;34m(self, *args, **kwargs)\u001b[0m\n\u001b[1;32m   2953\u001b[0m     \u001b[0;32mwith\u001b[0m \u001b[0mself\u001b[0m\u001b[0;34m.\u001b[0m\u001b[0m_lock\u001b[0m\u001b[0;34m:\u001b[0m\u001b[0;34m\u001b[0m\u001b[0;34m\u001b[0m\u001b[0m\n\u001b[1;32m   2954\u001b[0m       (graph_function,\n\u001b[0;32m-> 2955\u001b[0;31m        filtered_flat_args) = self._maybe_define_function(args, kwargs)\n\u001b[0m\u001b[1;32m   2956\u001b[0m     return graph_function._call_flat(\n\u001b[1;32m   2957\u001b[0m         filtered_flat_args, captured_inputs=graph_function.captured_inputs)  # pylint: disable=protected-access\n",
            "\u001b[0;32m/usr/local/lib/python3.7/dist-packages/tensorflow/python/eager/function.py\u001b[0m in \u001b[0;36m_maybe_define_function\u001b[0;34m(self, args, kwargs)\u001b[0m\n\u001b[1;32m   3290\u001b[0m \u001b[0;34m\u001b[0m\u001b[0m\n\u001b[1;32m   3291\u001b[0m           \u001b[0mself\u001b[0m\u001b[0;34m.\u001b[0m\u001b[0m_function_cache\u001b[0m\u001b[0;34m.\u001b[0m\u001b[0madd_call_context\u001b[0m\u001b[0;34m(\u001b[0m\u001b[0mcache_key\u001b[0m\u001b[0;34m.\u001b[0m\u001b[0mcall_context\u001b[0m\u001b[0;34m)\u001b[0m\u001b[0;34m\u001b[0m\u001b[0;34m\u001b[0m\u001b[0m\n\u001b[0;32m-> 3292\u001b[0;31m           \u001b[0mgraph_function\u001b[0m \u001b[0;34m=\u001b[0m \u001b[0mself\u001b[0m\u001b[0;34m.\u001b[0m\u001b[0m_create_graph_function\u001b[0m\u001b[0;34m(\u001b[0m\u001b[0margs\u001b[0m\u001b[0;34m,\u001b[0m \u001b[0mkwargs\u001b[0m\u001b[0;34m)\u001b[0m\u001b[0;34m\u001b[0m\u001b[0;34m\u001b[0m\u001b[0m\n\u001b[0m\u001b[1;32m   3293\u001b[0m           self._function_cache.add(cache_key, cache_key_deletion_observer,\n\u001b[1;32m   3294\u001b[0m                                    graph_function)\n",
            "\u001b[0;32m/usr/local/lib/python3.7/dist-packages/tensorflow/python/eager/function.py\u001b[0m in \u001b[0;36m_create_graph_function\u001b[0;34m(self, args, kwargs, override_flat_arg_shapes)\u001b[0m\n\u001b[1;32m   3138\u001b[0m             \u001b[0marg_names\u001b[0m\u001b[0;34m=\u001b[0m\u001b[0marg_names\u001b[0m\u001b[0;34m,\u001b[0m\u001b[0;34m\u001b[0m\u001b[0;34m\u001b[0m\u001b[0m\n\u001b[1;32m   3139\u001b[0m             \u001b[0moverride_flat_arg_shapes\u001b[0m\u001b[0;34m=\u001b[0m\u001b[0moverride_flat_arg_shapes\u001b[0m\u001b[0;34m,\u001b[0m\u001b[0;34m\u001b[0m\u001b[0;34m\u001b[0m\u001b[0m\n\u001b[0;32m-> 3140\u001b[0;31m             capture_by_value=self._capture_by_value),\n\u001b[0m\u001b[1;32m   3141\u001b[0m         \u001b[0mself\u001b[0m\u001b[0;34m.\u001b[0m\u001b[0m_function_attributes\u001b[0m\u001b[0;34m,\u001b[0m\u001b[0;34m\u001b[0m\u001b[0;34m\u001b[0m\u001b[0m\n\u001b[1;32m   3142\u001b[0m         \u001b[0mfunction_spec\u001b[0m\u001b[0;34m=\u001b[0m\u001b[0mself\u001b[0m\u001b[0;34m.\u001b[0m\u001b[0mfunction_spec\u001b[0m\u001b[0;34m,\u001b[0m\u001b[0;34m\u001b[0m\u001b[0;34m\u001b[0m\u001b[0m\n",
            "\u001b[0;32m/usr/local/lib/python3.7/dist-packages/tensorflow/python/framework/func_graph.py\u001b[0m in \u001b[0;36mfunc_graph_from_py_func\u001b[0;34m(name, python_func, args, kwargs, signature, func_graph, autograph, autograph_options, add_control_dependencies, arg_names, op_return_value, collections, capture_by_value, override_flat_arg_shapes, acd_record_initial_resource_uses)\u001b[0m\n\u001b[1;32m   1159\u001b[0m         \u001b[0m_\u001b[0m\u001b[0;34m,\u001b[0m \u001b[0moriginal_func\u001b[0m \u001b[0;34m=\u001b[0m \u001b[0mtf_decorator\u001b[0m\u001b[0;34m.\u001b[0m\u001b[0munwrap\u001b[0m\u001b[0;34m(\u001b[0m\u001b[0mpython_func\u001b[0m\u001b[0;34m)\u001b[0m\u001b[0;34m\u001b[0m\u001b[0;34m\u001b[0m\u001b[0m\n\u001b[1;32m   1160\u001b[0m \u001b[0;34m\u001b[0m\u001b[0m\n\u001b[0;32m-> 1161\u001b[0;31m       \u001b[0mfunc_outputs\u001b[0m \u001b[0;34m=\u001b[0m \u001b[0mpython_func\u001b[0m\u001b[0;34m(\u001b[0m\u001b[0;34m*\u001b[0m\u001b[0mfunc_args\u001b[0m\u001b[0;34m,\u001b[0m \u001b[0;34m**\u001b[0m\u001b[0mfunc_kwargs\u001b[0m\u001b[0;34m)\u001b[0m\u001b[0;34m\u001b[0m\u001b[0;34m\u001b[0m\u001b[0m\n\u001b[0m\u001b[1;32m   1162\u001b[0m \u001b[0;34m\u001b[0m\u001b[0m\n\u001b[1;32m   1163\u001b[0m       \u001b[0;31m# invariant: `func_outputs` contains only Tensors, CompositeTensors,\u001b[0m\u001b[0;34m\u001b[0m\u001b[0;34m\u001b[0m\u001b[0;34m\u001b[0m\u001b[0m\n",
            "\u001b[0;32m/usr/local/lib/python3.7/dist-packages/keras/layers/recurrent_v2.py\u001b[0m in \u001b[0;36mstandard_lstm\u001b[0;34m(inputs, init_h, init_c, kernel, recurrent_kernel, bias, mask, time_major, go_backwards, sequence_lengths, zero_output_for_mask)\u001b[0m\n\u001b[1;32m   1389\u001b[0m       input_length=(sequence_lengths\n\u001b[1;32m   1390\u001b[0m                     if sequence_lengths is not None else timesteps),\n\u001b[0;32m-> 1391\u001b[0;31m       zero_output_for_mask=zero_output_for_mask)\n\u001b[0m\u001b[1;32m   1392\u001b[0m   return (last_output, outputs, new_states[0], new_states[1],\n\u001b[1;32m   1393\u001b[0m           _runtime(_RUNTIME_CPU))\n",
            "\u001b[0;32m/usr/local/lib/python3.7/dist-packages/tensorflow/python/util/traceback_utils.py\u001b[0m in \u001b[0;36merror_handler\u001b[0;34m(*args, **kwargs)\u001b[0m\n\u001b[1;32m    148\u001b[0m     \u001b[0mfiltered_tb\u001b[0m \u001b[0;34m=\u001b[0m \u001b[0;32mNone\u001b[0m\u001b[0;34m\u001b[0m\u001b[0;34m\u001b[0m\u001b[0m\n\u001b[1;32m    149\u001b[0m     \u001b[0;32mtry\u001b[0m\u001b[0;34m:\u001b[0m\u001b[0;34m\u001b[0m\u001b[0;34m\u001b[0m\u001b[0m\n\u001b[0;32m--> 150\u001b[0;31m       \u001b[0;32mreturn\u001b[0m \u001b[0mfn\u001b[0m\u001b[0;34m(\u001b[0m\u001b[0;34m*\u001b[0m\u001b[0margs\u001b[0m\u001b[0;34m,\u001b[0m \u001b[0;34m**\u001b[0m\u001b[0mkwargs\u001b[0m\u001b[0;34m)\u001b[0m\u001b[0;34m\u001b[0m\u001b[0;34m\u001b[0m\u001b[0m\n\u001b[0m\u001b[1;32m    151\u001b[0m     \u001b[0;32mexcept\u001b[0m \u001b[0mException\u001b[0m \u001b[0;32mas\u001b[0m \u001b[0me\u001b[0m\u001b[0;34m:\u001b[0m\u001b[0;34m\u001b[0m\u001b[0;34m\u001b[0m\u001b[0m\n\u001b[1;32m    152\u001b[0m       \u001b[0mfiltered_tb\u001b[0m \u001b[0;34m=\u001b[0m \u001b[0m_process_traceback_frames\u001b[0m\u001b[0;34m(\u001b[0m\u001b[0me\u001b[0m\u001b[0;34m.\u001b[0m\u001b[0m__traceback__\u001b[0m\u001b[0;34m)\u001b[0m\u001b[0;34m\u001b[0m\u001b[0;34m\u001b[0m\u001b[0m\n",
            "\u001b[0;32m/usr/local/lib/python3.7/dist-packages/tensorflow/python/util/dispatch.py\u001b[0m in \u001b[0;36mop_dispatch_handler\u001b[0;34m(*args, **kwargs)\u001b[0m\n\u001b[1;32m   1080\u001b[0m       \u001b[0;31m# Fallback dispatch system (dispatch v1):\u001b[0m\u001b[0;34m\u001b[0m\u001b[0;34m\u001b[0m\u001b[0;34m\u001b[0m\u001b[0m\n\u001b[1;32m   1081\u001b[0m       \u001b[0;32mtry\u001b[0m\u001b[0;34m:\u001b[0m\u001b[0;34m\u001b[0m\u001b[0;34m\u001b[0m\u001b[0m\n\u001b[0;32m-> 1082\u001b[0;31m         \u001b[0;32mreturn\u001b[0m \u001b[0mdispatch_target\u001b[0m\u001b[0;34m(\u001b[0m\u001b[0;34m*\u001b[0m\u001b[0margs\u001b[0m\u001b[0;34m,\u001b[0m \u001b[0;34m**\u001b[0m\u001b[0mkwargs\u001b[0m\u001b[0;34m)\u001b[0m\u001b[0;34m\u001b[0m\u001b[0;34m\u001b[0m\u001b[0m\n\u001b[0m\u001b[1;32m   1083\u001b[0m       \u001b[0;32mexcept\u001b[0m \u001b[0;34m(\u001b[0m\u001b[0mTypeError\u001b[0m\u001b[0;34m,\u001b[0m \u001b[0mValueError\u001b[0m\u001b[0;34m)\u001b[0m\u001b[0;34m:\u001b[0m\u001b[0;34m\u001b[0m\u001b[0;34m\u001b[0m\u001b[0m\n\u001b[1;32m   1084\u001b[0m         \u001b[0;31m# Note: convert_to_eager_tensor currently raises a ValueError, not a\u001b[0m\u001b[0;34m\u001b[0m\u001b[0;34m\u001b[0m\u001b[0;34m\u001b[0m\u001b[0m\n",
            "\u001b[0;32m/usr/local/lib/python3.7/dist-packages/keras/backend.py\u001b[0m in \u001b[0;36mrnn\u001b[0;34m(step_function, inputs, initial_states, go_backwards, mask, constants, unroll, input_length, time_major, zero_output_for_mask)\u001b[0m\n\u001b[1;32m   4750\u001b[0m \u001b[0;34m\u001b[0m\u001b[0m\n\u001b[1;32m   4751\u001b[0m     \u001b[0moutputs\u001b[0m \u001b[0;34m=\u001b[0m \u001b[0mtuple\u001b[0m\u001b[0;34m(\u001b[0m\u001b[0mo\u001b[0m\u001b[0;34m.\u001b[0m\u001b[0mstack\u001b[0m\u001b[0;34m(\u001b[0m\u001b[0;34m)\u001b[0m \u001b[0;32mfor\u001b[0m \u001b[0mo\u001b[0m \u001b[0;32min\u001b[0m \u001b[0moutput_ta\u001b[0m\u001b[0;34m)\u001b[0m\u001b[0;34m\u001b[0m\u001b[0;34m\u001b[0m\u001b[0m\n\u001b[0;32m-> 4752\u001b[0;31m     \u001b[0mlast_output\u001b[0m \u001b[0;34m=\u001b[0m \u001b[0mtuple\u001b[0m\u001b[0;34m(\u001b[0m\u001b[0mo\u001b[0m\u001b[0;34m[\u001b[0m\u001b[0;34m-\u001b[0m\u001b[0;36m1\u001b[0m\u001b[0;34m]\u001b[0m \u001b[0;32mfor\u001b[0m \u001b[0mo\u001b[0m \u001b[0;32min\u001b[0m \u001b[0moutputs\u001b[0m\u001b[0;34m)\u001b[0m\u001b[0;34m\u001b[0m\u001b[0;34m\u001b[0m\u001b[0m\n\u001b[0m\u001b[1;32m   4753\u001b[0m \u001b[0;34m\u001b[0m\u001b[0m\n\u001b[1;32m   4754\u001b[0m     \u001b[0moutputs\u001b[0m \u001b[0;34m=\u001b[0m \u001b[0mtf\u001b[0m\u001b[0;34m.\u001b[0m\u001b[0mnest\u001b[0m\u001b[0;34m.\u001b[0m\u001b[0mpack_sequence_as\u001b[0m\u001b[0;34m(\u001b[0m\u001b[0moutput_time_zero\u001b[0m\u001b[0;34m,\u001b[0m \u001b[0moutputs\u001b[0m\u001b[0;34m)\u001b[0m\u001b[0;34m\u001b[0m\u001b[0;34m\u001b[0m\u001b[0m\n",
            "\u001b[0;32m/usr/local/lib/python3.7/dist-packages/keras/backend.py\u001b[0m in \u001b[0;36m<genexpr>\u001b[0;34m(.0)\u001b[0m\n\u001b[1;32m   4750\u001b[0m \u001b[0;34m\u001b[0m\u001b[0m\n\u001b[1;32m   4751\u001b[0m     \u001b[0moutputs\u001b[0m \u001b[0;34m=\u001b[0m \u001b[0mtuple\u001b[0m\u001b[0;34m(\u001b[0m\u001b[0mo\u001b[0m\u001b[0;34m.\u001b[0m\u001b[0mstack\u001b[0m\u001b[0;34m(\u001b[0m\u001b[0;34m)\u001b[0m \u001b[0;32mfor\u001b[0m \u001b[0mo\u001b[0m \u001b[0;32min\u001b[0m \u001b[0moutput_ta\u001b[0m\u001b[0;34m)\u001b[0m\u001b[0;34m\u001b[0m\u001b[0;34m\u001b[0m\u001b[0m\n\u001b[0;32m-> 4752\u001b[0;31m     \u001b[0mlast_output\u001b[0m \u001b[0;34m=\u001b[0m \u001b[0mtuple\u001b[0m\u001b[0;34m(\u001b[0m\u001b[0mo\u001b[0m\u001b[0;34m[\u001b[0m\u001b[0;34m-\u001b[0m\u001b[0;36m1\u001b[0m\u001b[0;34m]\u001b[0m \u001b[0;32mfor\u001b[0m \u001b[0mo\u001b[0m \u001b[0;32min\u001b[0m \u001b[0moutputs\u001b[0m\u001b[0;34m)\u001b[0m\u001b[0;34m\u001b[0m\u001b[0;34m\u001b[0m\u001b[0m\n\u001b[0m\u001b[1;32m   4753\u001b[0m \u001b[0;34m\u001b[0m\u001b[0m\n\u001b[1;32m   4754\u001b[0m     \u001b[0moutputs\u001b[0m \u001b[0;34m=\u001b[0m \u001b[0mtf\u001b[0m\u001b[0;34m.\u001b[0m\u001b[0mnest\u001b[0m\u001b[0;34m.\u001b[0m\u001b[0mpack_sequence_as\u001b[0m\u001b[0;34m(\u001b[0m\u001b[0moutput_time_zero\u001b[0m\u001b[0;34m,\u001b[0m \u001b[0moutputs\u001b[0m\u001b[0;34m)\u001b[0m\u001b[0;34m\u001b[0m\u001b[0;34m\u001b[0m\u001b[0m\n",
            "\u001b[0;32m/usr/local/lib/python3.7/dist-packages/tensorflow/python/util/traceback_utils.py\u001b[0m in \u001b[0;36merror_handler\u001b[0;34m(*args, **kwargs)\u001b[0m\n\u001b[1;32m    148\u001b[0m     \u001b[0mfiltered_tb\u001b[0m \u001b[0;34m=\u001b[0m \u001b[0;32mNone\u001b[0m\u001b[0;34m\u001b[0m\u001b[0;34m\u001b[0m\u001b[0m\n\u001b[1;32m    149\u001b[0m     \u001b[0;32mtry\u001b[0m\u001b[0;34m:\u001b[0m\u001b[0;34m\u001b[0m\u001b[0;34m\u001b[0m\u001b[0m\n\u001b[0;32m--> 150\u001b[0;31m       \u001b[0;32mreturn\u001b[0m \u001b[0mfn\u001b[0m\u001b[0;34m(\u001b[0m\u001b[0;34m*\u001b[0m\u001b[0margs\u001b[0m\u001b[0;34m,\u001b[0m \u001b[0;34m**\u001b[0m\u001b[0mkwargs\u001b[0m\u001b[0;34m)\u001b[0m\u001b[0;34m\u001b[0m\u001b[0;34m\u001b[0m\u001b[0m\n\u001b[0m\u001b[1;32m    151\u001b[0m     \u001b[0;32mexcept\u001b[0m \u001b[0mException\u001b[0m \u001b[0;32mas\u001b[0m \u001b[0me\u001b[0m\u001b[0;34m:\u001b[0m\u001b[0;34m\u001b[0m\u001b[0;34m\u001b[0m\u001b[0m\n\u001b[1;32m    152\u001b[0m       \u001b[0mfiltered_tb\u001b[0m \u001b[0;34m=\u001b[0m \u001b[0m_process_traceback_frames\u001b[0m\u001b[0;34m(\u001b[0m\u001b[0me\u001b[0m\u001b[0;34m.\u001b[0m\u001b[0m__traceback__\u001b[0m\u001b[0;34m)\u001b[0m\u001b[0;34m\u001b[0m\u001b[0;34m\u001b[0m\u001b[0m\n",
            "\u001b[0;32m/usr/local/lib/python3.7/dist-packages/tensorflow/python/util/dispatch.py\u001b[0m in \u001b[0;36mop_dispatch_handler\u001b[0;34m(*args, **kwargs)\u001b[0m\n\u001b[1;32m   1080\u001b[0m       \u001b[0;31m# Fallback dispatch system (dispatch v1):\u001b[0m\u001b[0;34m\u001b[0m\u001b[0;34m\u001b[0m\u001b[0;34m\u001b[0m\u001b[0m\n\u001b[1;32m   1081\u001b[0m       \u001b[0;32mtry\u001b[0m\u001b[0;34m:\u001b[0m\u001b[0;34m\u001b[0m\u001b[0;34m\u001b[0m\u001b[0m\n\u001b[0;32m-> 1082\u001b[0;31m         \u001b[0;32mreturn\u001b[0m \u001b[0mdispatch_target\u001b[0m\u001b[0;34m(\u001b[0m\u001b[0;34m*\u001b[0m\u001b[0margs\u001b[0m\u001b[0;34m,\u001b[0m \u001b[0;34m**\u001b[0m\u001b[0mkwargs\u001b[0m\u001b[0;34m)\u001b[0m\u001b[0;34m\u001b[0m\u001b[0;34m\u001b[0m\u001b[0m\n\u001b[0m\u001b[1;32m   1083\u001b[0m       \u001b[0;32mexcept\u001b[0m \u001b[0;34m(\u001b[0m\u001b[0mTypeError\u001b[0m\u001b[0;34m,\u001b[0m \u001b[0mValueError\u001b[0m\u001b[0;34m)\u001b[0m\u001b[0;34m:\u001b[0m\u001b[0;34m\u001b[0m\u001b[0;34m\u001b[0m\u001b[0m\n\u001b[1;32m   1084\u001b[0m         \u001b[0;31m# Note: convert_to_eager_tensor currently raises a ValueError, not a\u001b[0m\u001b[0;34m\u001b[0m\u001b[0;34m\u001b[0m\u001b[0;34m\u001b[0m\u001b[0m\n",
            "\u001b[0;32m/usr/local/lib/python3.7/dist-packages/tensorflow/python/ops/array_ops.py\u001b[0m in \u001b[0;36m_slice_helper\u001b[0;34m(tensor, slice_spec, var)\u001b[0m\n\u001b[1;32m   1061\u001b[0m         \u001b[0mellipsis_mask\u001b[0m\u001b[0;34m=\u001b[0m\u001b[0mellipsis_mask\u001b[0m\u001b[0;34m,\u001b[0m\u001b[0;34m\u001b[0m\u001b[0;34m\u001b[0m\u001b[0m\n\u001b[1;32m   1062\u001b[0m         \u001b[0mvar\u001b[0m\u001b[0;34m=\u001b[0m\u001b[0mvar\u001b[0m\u001b[0;34m,\u001b[0m\u001b[0;34m\u001b[0m\u001b[0;34m\u001b[0m\u001b[0m\n\u001b[0;32m-> 1063\u001b[0;31m         name=name)\n\u001b[0m\u001b[1;32m   1064\u001b[0m \u001b[0;34m\u001b[0m\u001b[0m\n\u001b[1;32m   1065\u001b[0m \u001b[0;34m\u001b[0m\u001b[0m\n",
            "\u001b[0;32m/usr/local/lib/python3.7/dist-packages/tensorflow/python/util/traceback_utils.py\u001b[0m in \u001b[0;36merror_handler\u001b[0;34m(*args, **kwargs)\u001b[0m\n\u001b[1;32m    148\u001b[0m     \u001b[0mfiltered_tb\u001b[0m \u001b[0;34m=\u001b[0m \u001b[0;32mNone\u001b[0m\u001b[0;34m\u001b[0m\u001b[0;34m\u001b[0m\u001b[0m\n\u001b[1;32m    149\u001b[0m     \u001b[0;32mtry\u001b[0m\u001b[0;34m:\u001b[0m\u001b[0;34m\u001b[0m\u001b[0;34m\u001b[0m\u001b[0m\n\u001b[0;32m--> 150\u001b[0;31m       \u001b[0;32mreturn\u001b[0m \u001b[0mfn\u001b[0m\u001b[0;34m(\u001b[0m\u001b[0;34m*\u001b[0m\u001b[0margs\u001b[0m\u001b[0;34m,\u001b[0m \u001b[0;34m**\u001b[0m\u001b[0mkwargs\u001b[0m\u001b[0;34m)\u001b[0m\u001b[0;34m\u001b[0m\u001b[0;34m\u001b[0m\u001b[0m\n\u001b[0m\u001b[1;32m    151\u001b[0m     \u001b[0;32mexcept\u001b[0m \u001b[0mException\u001b[0m \u001b[0;32mas\u001b[0m \u001b[0me\u001b[0m\u001b[0;34m:\u001b[0m\u001b[0;34m\u001b[0m\u001b[0;34m\u001b[0m\u001b[0m\n\u001b[1;32m    152\u001b[0m       \u001b[0mfiltered_tb\u001b[0m \u001b[0;34m=\u001b[0m \u001b[0m_process_traceback_frames\u001b[0m\u001b[0;34m(\u001b[0m\u001b[0me\u001b[0m\u001b[0;34m.\u001b[0m\u001b[0m__traceback__\u001b[0m\u001b[0;34m)\u001b[0m\u001b[0;34m\u001b[0m\u001b[0;34m\u001b[0m\u001b[0m\n",
            "\u001b[0;32m/usr/local/lib/python3.7/dist-packages/tensorflow/python/util/dispatch.py\u001b[0m in \u001b[0;36mop_dispatch_handler\u001b[0;34m(*args, **kwargs)\u001b[0m\n\u001b[1;32m   1080\u001b[0m       \u001b[0;31m# Fallback dispatch system (dispatch v1):\u001b[0m\u001b[0;34m\u001b[0m\u001b[0;34m\u001b[0m\u001b[0;34m\u001b[0m\u001b[0m\n\u001b[1;32m   1081\u001b[0m       \u001b[0;32mtry\u001b[0m\u001b[0;34m:\u001b[0m\u001b[0;34m\u001b[0m\u001b[0;34m\u001b[0m\u001b[0m\n\u001b[0;32m-> 1082\u001b[0;31m         \u001b[0;32mreturn\u001b[0m \u001b[0mdispatch_target\u001b[0m\u001b[0;34m(\u001b[0m\u001b[0;34m*\u001b[0m\u001b[0margs\u001b[0m\u001b[0;34m,\u001b[0m \u001b[0;34m**\u001b[0m\u001b[0mkwargs\u001b[0m\u001b[0;34m)\u001b[0m\u001b[0;34m\u001b[0m\u001b[0;34m\u001b[0m\u001b[0m\n\u001b[0m\u001b[1;32m   1083\u001b[0m       \u001b[0;32mexcept\u001b[0m \u001b[0;34m(\u001b[0m\u001b[0mTypeError\u001b[0m\u001b[0;34m,\u001b[0m \u001b[0mValueError\u001b[0m\u001b[0;34m)\u001b[0m\u001b[0;34m:\u001b[0m\u001b[0;34m\u001b[0m\u001b[0;34m\u001b[0m\u001b[0m\n\u001b[1;32m   1084\u001b[0m         \u001b[0;31m# Note: convert_to_eager_tensor currently raises a ValueError, not a\u001b[0m\u001b[0;34m\u001b[0m\u001b[0;34m\u001b[0m\u001b[0;34m\u001b[0m\u001b[0m\n",
            "\u001b[0;32m/usr/local/lib/python3.7/dist-packages/tensorflow/python/ops/array_ops.py\u001b[0m in \u001b[0;36mstrided_slice\u001b[0;34m(input_, begin, end, strides, begin_mask, end_mask, ellipsis_mask, new_axis_mask, shrink_axis_mask, var, name)\u001b[0m\n\u001b[1;32m   1233\u001b[0m       \u001b[0mellipsis_mask\u001b[0m\u001b[0;34m=\u001b[0m\u001b[0mellipsis_mask\u001b[0m\u001b[0;34m,\u001b[0m\u001b[0;34m\u001b[0m\u001b[0;34m\u001b[0m\u001b[0m\n\u001b[1;32m   1234\u001b[0m       \u001b[0mnew_axis_mask\u001b[0m\u001b[0;34m=\u001b[0m\u001b[0mnew_axis_mask\u001b[0m\u001b[0;34m,\u001b[0m\u001b[0;34m\u001b[0m\u001b[0;34m\u001b[0m\u001b[0m\n\u001b[0;32m-> 1235\u001b[0;31m       shrink_axis_mask=shrink_axis_mask)\n\u001b[0m\u001b[1;32m   1236\u001b[0m \u001b[0;34m\u001b[0m\u001b[0m\n\u001b[1;32m   1237\u001b[0m   \u001b[0mparent_name\u001b[0m \u001b[0;34m=\u001b[0m \u001b[0mname\u001b[0m\u001b[0;34m\u001b[0m\u001b[0;34m\u001b[0m\u001b[0m\n",
            "\u001b[0;32m/usr/local/lib/python3.7/dist-packages/tensorflow/python/ops/gen_array_ops.py\u001b[0m in \u001b[0;36mstrided_slice\u001b[0;34m(input, begin, end, strides, begin_mask, end_mask, ellipsis_mask, new_axis_mask, shrink_axis_mask, name)\u001b[0m\n\u001b[1;32m  10701\u001b[0m                         \u001b[0mellipsis_mask\u001b[0m\u001b[0;34m=\u001b[0m\u001b[0mellipsis_mask\u001b[0m\u001b[0;34m,\u001b[0m\u001b[0;34m\u001b[0m\u001b[0;34m\u001b[0m\u001b[0m\n\u001b[1;32m  10702\u001b[0m                         \u001b[0mnew_axis_mask\u001b[0m\u001b[0;34m=\u001b[0m\u001b[0mnew_axis_mask\u001b[0m\u001b[0;34m,\u001b[0m\u001b[0;34m\u001b[0m\u001b[0;34m\u001b[0m\u001b[0m\n\u001b[0;32m> 10703\u001b[0;31m                         shrink_axis_mask=shrink_axis_mask, name=name)\n\u001b[0m\u001b[1;32m  10704\u001b[0m   \u001b[0m_result\u001b[0m \u001b[0;34m=\u001b[0m \u001b[0m_outputs\u001b[0m\u001b[0;34m[\u001b[0m\u001b[0;34m:\u001b[0m\u001b[0;34m]\u001b[0m\u001b[0;34m\u001b[0m\u001b[0;34m\u001b[0m\u001b[0m\n\u001b[1;32m  10705\u001b[0m   \u001b[0;32mif\u001b[0m \u001b[0m_execute\u001b[0m\u001b[0;34m.\u001b[0m\u001b[0mmust_record_gradient\u001b[0m\u001b[0;34m(\u001b[0m\u001b[0;34m)\u001b[0m\u001b[0;34m:\u001b[0m\u001b[0;34m\u001b[0m\u001b[0;34m\u001b[0m\u001b[0m\n",
            "\u001b[0;32m/usr/local/lib/python3.7/dist-packages/tensorflow/python/framework/op_def_library.py\u001b[0m in \u001b[0;36m_apply_op_helper\u001b[0;34m(op_type_name, name, **keywords)\u001b[0m\n\u001b[1;32m    366\u001b[0m   \u001b[0minputs\u001b[0m \u001b[0;34m=\u001b[0m \u001b[0;34m[\u001b[0m\u001b[0;34m]\u001b[0m\u001b[0;34m\u001b[0m\u001b[0;34m\u001b[0m\u001b[0m\n\u001b[1;32m    367\u001b[0m   \u001b[0minput_types\u001b[0m \u001b[0;34m=\u001b[0m \u001b[0;34m[\u001b[0m\u001b[0;34m]\u001b[0m\u001b[0;34m\u001b[0m\u001b[0;34m\u001b[0m\u001b[0m\n\u001b[0;32m--> 368\u001b[0;31m   \u001b[0;32mwith\u001b[0m \u001b[0mg\u001b[0m\u001b[0;34m.\u001b[0m\u001b[0mas_default\u001b[0m\u001b[0;34m(\u001b[0m\u001b[0;34m)\u001b[0m\u001b[0;34m,\u001b[0m \u001b[0mops\u001b[0m\u001b[0;34m.\u001b[0m\u001b[0mname_scope\u001b[0m\u001b[0;34m(\u001b[0m\u001b[0mname\u001b[0m\u001b[0;34m)\u001b[0m \u001b[0;32mas\u001b[0m \u001b[0mscope\u001b[0m\u001b[0;34m:\u001b[0m\u001b[0;34m\u001b[0m\u001b[0;34m\u001b[0m\u001b[0m\n\u001b[0m\u001b[1;32m    369\u001b[0m \u001b[0;34m\u001b[0m\u001b[0m\n\u001b[1;32m    370\u001b[0m     \u001b[0;31m# Perform input type inference\u001b[0m\u001b[0;34m\u001b[0m\u001b[0;34m\u001b[0m\u001b[0;34m\u001b[0m\u001b[0m\n",
            "\u001b[0;32m/usr/local/lib/python3.7/dist-packages/tensorflow/python/framework/func_graph.py\u001b[0m in \u001b[0;36mas_default\u001b[0;34m(self)\u001b[0m\n\u001b[1;32m    463\u001b[0m     \u001b[0mouter_cm\u001b[0m \u001b[0;34m=\u001b[0m \u001b[0msuper\u001b[0m\u001b[0;34m(\u001b[0m\u001b[0mFuncGraph\u001b[0m\u001b[0;34m,\u001b[0m \u001b[0mself\u001b[0m\u001b[0;34m)\u001b[0m\u001b[0;34m.\u001b[0m\u001b[0mas_default\u001b[0m\u001b[0;34m(\u001b[0m\u001b[0;34m)\u001b[0m\u001b[0;34m\u001b[0m\u001b[0;34m\u001b[0m\u001b[0m\n\u001b[1;32m    464\u001b[0m \u001b[0;34m\u001b[0m\u001b[0m\n\u001b[0;32m--> 465\u001b[0;31m     \u001b[0;34m@\u001b[0m\u001b[0mtf_contextlib\u001b[0m\u001b[0;34m.\u001b[0m\u001b[0mcontextmanager\u001b[0m\u001b[0;34m\u001b[0m\u001b[0;34m\u001b[0m\u001b[0m\n\u001b[0m\u001b[1;32m    466\u001b[0m     \u001b[0;32mdef\u001b[0m \u001b[0minner_cm\u001b[0m\u001b[0;34m(\u001b[0m\u001b[0;34m)\u001b[0m\u001b[0;34m:\u001b[0m\u001b[0;34m\u001b[0m\u001b[0;34m\u001b[0m\u001b[0m\n\u001b[1;32m    467\u001b[0m       \u001b[0;34m\"\"\"Context manager for copying distribute.Strategy scope information.\"\"\"\u001b[0m\u001b[0;34m\u001b[0m\u001b[0;34m\u001b[0m\u001b[0m\n",
            "\u001b[0;32m/usr/local/lib/python3.7/dist-packages/tensorflow/python/util/tf_contextlib.py\u001b[0m in \u001b[0;36mcontextmanager\u001b[0;34m(target)\u001b[0m\n\u001b[1;32m     30\u001b[0m   \"\"\"\n\u001b[1;32m     31\u001b[0m   \u001b[0mcontext_manager\u001b[0m \u001b[0;34m=\u001b[0m \u001b[0m_contextlib\u001b[0m\u001b[0;34m.\u001b[0m\u001b[0mcontextmanager\u001b[0m\u001b[0;34m(\u001b[0m\u001b[0mtarget\u001b[0m\u001b[0;34m)\u001b[0m\u001b[0;34m\u001b[0m\u001b[0;34m\u001b[0m\u001b[0m\n\u001b[0;32m---> 32\u001b[0;31m   \u001b[0;32mreturn\u001b[0m \u001b[0mtf_decorator\u001b[0m\u001b[0;34m.\u001b[0m\u001b[0mmake_decorator\u001b[0m\u001b[0;34m(\u001b[0m\u001b[0mtarget\u001b[0m\u001b[0;34m,\u001b[0m \u001b[0mcontext_manager\u001b[0m\u001b[0;34m,\u001b[0m \u001b[0;34m'contextmanager'\u001b[0m\u001b[0;34m)\u001b[0m\u001b[0;34m\u001b[0m\u001b[0;34m\u001b[0m\u001b[0m\n\u001b[0m",
            "\u001b[0;32m/usr/local/lib/python3.7/dist-packages/tensorflow/python/util/tf_decorator.py\u001b[0m in \u001b[0;36mmake_decorator\u001b[0;34m(target, decorator_func, decorator_name, decorator_doc, decorator_argspec)\u001b[0m\n\u001b[1;32m     81\u001b[0m     \u001b[0mdecorator_name\u001b[0m \u001b[0;34m=\u001b[0m \u001b[0minspect\u001b[0m\u001b[0;34m.\u001b[0m\u001b[0mcurrentframe\u001b[0m\u001b[0;34m(\u001b[0m\u001b[0;34m)\u001b[0m\u001b[0;34m.\u001b[0m\u001b[0mf_back\u001b[0m\u001b[0;34m.\u001b[0m\u001b[0mf_code\u001b[0m\u001b[0;34m.\u001b[0m\u001b[0mco_name\u001b[0m\u001b[0;34m\u001b[0m\u001b[0;34m\u001b[0m\u001b[0m\n\u001b[1;32m     82\u001b[0m   decorator = TFDecorator(decorator_name, target, decorator_doc,\n\u001b[0;32m---> 83\u001b[0;31m                           decorator_argspec)\n\u001b[0m\u001b[1;32m     84\u001b[0m   \u001b[0msetattr\u001b[0m\u001b[0;34m(\u001b[0m\u001b[0mdecorator_func\u001b[0m\u001b[0;34m,\u001b[0m \u001b[0;34m'_tf_decorator'\u001b[0m\u001b[0;34m,\u001b[0m \u001b[0mdecorator\u001b[0m\u001b[0;34m)\u001b[0m\u001b[0;34m\u001b[0m\u001b[0;34m\u001b[0m\u001b[0m\n\u001b[1;32m     85\u001b[0m   \u001b[0;31m# Objects that are callables (e.g., a functools.partial object) may not have\u001b[0m\u001b[0;34m\u001b[0m\u001b[0;34m\u001b[0m\u001b[0;34m\u001b[0m\u001b[0m\n",
            "\u001b[0;32m/usr/local/lib/python3.7/dist-packages/tensorflow/python/util/tf_decorator.py\u001b[0m in \u001b[0;36m__init__\u001b[0;34m(self, decorator_name, target, decorator_doc, decorator_argspec)\u001b[0m\n\u001b[1;32m    239\u001b[0m       \u001b[0mself\u001b[0m\u001b[0;34m.\u001b[0m\u001b[0m__name__\u001b[0m \u001b[0;34m=\u001b[0m \u001b[0mtarget\u001b[0m\u001b[0;34m.\u001b[0m\u001b[0m__name__\u001b[0m\u001b[0;34m\u001b[0m\u001b[0;34m\u001b[0m\u001b[0m\n\u001b[1;32m    240\u001b[0m     \u001b[0;32mif\u001b[0m \u001b[0mhasattr\u001b[0m\u001b[0;34m(\u001b[0m\u001b[0mtarget\u001b[0m\u001b[0;34m,\u001b[0m \u001b[0;34m'__qualname__'\u001b[0m\u001b[0;34m)\u001b[0m\u001b[0;34m:\u001b[0m\u001b[0;34m\u001b[0m\u001b[0;34m\u001b[0m\u001b[0m\n\u001b[0;32m--> 241\u001b[0;31m       \u001b[0mself\u001b[0m\u001b[0;34m.\u001b[0m\u001b[0m__qualname__\u001b[0m \u001b[0;34m=\u001b[0m \u001b[0mtarget\u001b[0m\u001b[0;34m.\u001b[0m\u001b[0m__qualname__\u001b[0m\u001b[0;34m\u001b[0m\u001b[0;34m\u001b[0m\u001b[0m\n\u001b[0m\u001b[1;32m    242\u001b[0m     \u001b[0;32mif\u001b[0m \u001b[0mself\u001b[0m\u001b[0;34m.\u001b[0m\u001b[0m_decorator_doc\u001b[0m\u001b[0;34m:\u001b[0m\u001b[0;34m\u001b[0m\u001b[0;34m\u001b[0m\u001b[0m\n\u001b[1;32m    243\u001b[0m       \u001b[0mself\u001b[0m\u001b[0;34m.\u001b[0m\u001b[0m__doc__\u001b[0m \u001b[0;34m=\u001b[0m \u001b[0mself\u001b[0m\u001b[0;34m.\u001b[0m\u001b[0m_decorator_doc\u001b[0m\u001b[0;34m\u001b[0m\u001b[0;34m\u001b[0m\u001b[0m\n",
            "\u001b[0;31mKeyboardInterrupt\u001b[0m: "
          ]
        }
      ],
      "source": [
        "\n",
        "random.seed(69)\n",
        "pop = toolbox.population(n=30)\n",
        "#print(pop)\n",
        "CXPB, MUTPB = 0.9, 0.3\n",
        "\n",
        "print(\"Start of evolution\")\n",
        "\n",
        "# Evaluate the entire population\n",
        "fitnesses = list(map(toolbox.evaluate, pop))\n",
        "\n",
        "print(type(fitnesses))\n",
        "\n",
        "for ind, fit in zip(pop,fitnesses):\n",
        "    ind.fitness.values = fit\n",
        "\n",
        "print(\"  Evaluated %i individuals\" % len(pop))\n",
        "\n",
        "# Extracting all the fitnesses of\n",
        "fits = [ind.fitness.values[0] for ind in pop]      # facciamo una lista con le fitnesses degli individui, ind.fitness.values\n",
        "                                                    # è un vettore (?) composto in questo caso di una sola entrata,\n",
        "                                                    # di cui passiamo il valore\n",
        "\n",
        "# Variable keeping track of the number of generations\n",
        "g = 0\n",
        "\n",
        "# Begin the evolution\n",
        "while max(fits) < 100 and g < 5:\n",
        "    # A new generation\n",
        "    g = g + 1\n",
        "    print(\"-- Generation %i --\" % g)\n",
        "\n",
        "    # Select the next generation individuals\n",
        "    offspring = toolbox.select(pop, len(pop))        # scrivere direttamente 300 va bene lo stesso, sembra. len(pop) è la grandezza della mating pool\n",
        "    # Clone the selected individuals\n",
        "    offspring = list(map(toolbox.clone, offspring))      # inutile?\n",
        "\n",
        "\n",
        "\n",
        "    # Apply crossover and mutation on the offspring\n",
        "    for child1, child2 in zip(offspring[::2], offspring[1::2]):  # offspring[::2] è la lista offspring valutata un elemento\n",
        "                                                                  # sì e uno no a partire dal primo (di posto 0),\n",
        "                                                                  # offspring[1::2] è la stessa cosa ma partendo dal secondo\n",
        "                                                                  # (di posto 1)\n",
        "\n",
        "        # cross two individuals with probability CXPB\n",
        "        if random.random() < CXPB:\n",
        "            toolbox.mate(child1, child2)\n",
        "\n",
        "            # fitness values of the children\n",
        "            # must be recalculated later\n",
        "            del child1.fitness.values\n",
        "            del child2.fitness.values\n",
        "\n",
        "    for mutant in offspring:\n",
        "\n",
        "        # mutate an individual with probability MUTPB\n",
        "        if random.random() < MUTPB:\n",
        "            toolbox.mutate(mutant)\n",
        "            del mutant.fitness.values\n",
        "\n",
        "    # Evaluate the individuals with an invalid fitness                  # \"ind al variare di ind in offspring se il valore di fitness non è valido\"\n",
        "    invalid_ind = [ind for ind in offspring if not ind.fitness.valid]   # creiamo una lista con gli individui alterati\n",
        "    fitnesses = map(toolbox.evaluate, invalid_ind)                      # da crossover e/o mutazioni, cui abbiamo cancellato\n",
        "    for ind, fit in zip(invalid_ind, fitnesses):                        # la fitness precedentemente. Gli riassegniamo\n",
        "        ind.fitness.values = fit                                        # una fitness.\n",
        "\n",
        "    print(\"  Evaluated %i individuals\" % len(invalid_ind))              # Non analizziammo di nuovo tutto ma solo gli individui alterati\n",
        "\n",
        "    # The population is entirely replaced by the offspring\n",
        "    pop[:] = offspring\n",
        "\n",
        "    record=stats.compile(pop)                           # è un altro modo di printare le statistiche\n",
        "                                                        # in realtà il logbook permette anche di conservare (come dizionario) le stats\n",
        "    logbook.record(gen=g,evals=len(pop),**record)       # di ogni generazione\n",
        "    gen,avg=logbook.select(\"gen\",\"avg\")\n",
        "\n",
        "\n",
        "    # Gather all the fitnesses in one list and print the stats\n",
        "    fits = [ind.fitness.values[0] for ind in pop]\n",
        "\n",
        "    length = len(pop)\n",
        "    mean = sum(fits) / length\n",
        "    sum2 = sum(x * x for x in fits)\n",
        "    std = abs(sum2 / length - mean ** 2) ** 0.5\n",
        "\n",
        "    print(\"  Min %s\" % min(fits))\n",
        "    print(\"  Max %s\" % max(fits))\n",
        "    print(\"  Avg %s\" % mean)\n",
        "    print(\"  Std %s\" % std)\n",
        "\n",
        "print(\"-- End of (successful) evolution --\")\n",
        "print(logbook)\n",
        "\n",
        "best_ind = tools.selBest(pop, 1)[0]\n",
        "print(\"Best individual is %s, %s\" % (best_ind, best_ind.fitness.values))\n",
        "\n",
        "fig, ax = plt.subplots()\n",
        "ax.grid(True)\n",
        "plt.plot(gen,avg)\n",
        "ax.set_xlabel(\"Generation\")\n",
        "ax.set_xticks(np.arange(1,len(gen)))\n",
        "ax.set_ylabel(\"Fitness\")\n",
        "#ax.set_yticks(numpy.arange(min(avg), 0.5))\n",
        "plt.show()"
      ]
    },
    {
      "cell_type": "code",
      "execution_count": null,
      "metadata": {
        "id": "yZ5ZJKqYfCtE"
      },
      "outputs": [],
      "source": [
        "#main()"
      ]
    },
    {
      "cell_type": "markdown",
      "metadata": {
        "id": "yIfnpbdIv4Dj"
      },
      "source": [
        "# Evaluation of best *individual*"
      ]
    },
    {
      "cell_type": "code",
      "source": [
        "tot_df"
      ],
      "metadata": {
        "id": "YqxFBiH0T2xp"
      },
      "execution_count": null,
      "outputs": []
    },
    {
      "cell_type": "code",
      "execution_count": null,
      "metadata": {
        "colab": {
          "base_uri": "https://localhost:8080/"
        },
        "id": "4vA3kfF8vCuT",
        "outputId": "a9be6c8b-ea21-4871-9a05-142b1404a6b6"
      },
      "outputs": [
        {
          "output_type": "stream",
          "name": "stdout",
          "text": [
            "Model: \"model_3\"\n",
            "_________________________________________________________________\n",
            " Layer (type)                Output Shape              Param #   \n",
            "=================================================================\n",
            " input_4 (InputLayer)        [(None, 4, 14)]           0         \n",
            "                                                                 \n",
            " lstm_8 (LSTM)               (None, 4, 14)             1624      \n",
            "                                                                 \n",
            " lstm_9 (LSTM)               (None, 1)                 64        \n",
            "                                                                 \n",
            "=================================================================\n",
            "Total params: 1,688\n",
            "Trainable params: 1,688\n",
            "Non-trainable params: 0\n",
            "_________________________________________________________________\n",
            "Epoch 1/20\n"
          ]
        },
        {
          "output_type": "stream",
          "name": "stderr",
          "text": [
            "/usr/local/lib/python3.7/dist-packages/keras/optimizer_v2/gradient_descent.py:102: UserWarning: The `lr` argument is deprecated, use `learning_rate` instead.\n",
            "  super(SGD, self).__init__(name, **kwargs)\n"
          ]
        },
        {
          "output_type": "stream",
          "name": "stdout",
          "text": [
            "45/45 - 14s - loss: 6.8505 - accuracy: 0.5297 - val_loss: 0.6597 - val_accuracy: 0.5444 - lr: 0.0100 - 14s/epoch - 311ms/step\n",
            "Epoch 2/20\n",
            "45/45 - 1s - loss: 0.6444 - accuracy: 0.5466 - val_loss: 0.6255 - val_accuracy: 0.6283 - lr: 0.0100 - 531ms/epoch - 12ms/step\n",
            "Epoch 3/20\n",
            "45/45 - 1s - loss: 0.6101 - accuracy: 0.6999 - val_loss: 0.5936 - val_accuracy: 0.7451 - lr: 0.0100 - 538ms/epoch - 12ms/step\n",
            "Epoch 4/20\n",
            "45/45 - 1s - loss: 0.5784 - accuracy: 0.7747 - val_loss: 0.5610 - val_accuracy: 0.8289 - lr: 0.0100 - 535ms/epoch - 12ms/step\n",
            "Epoch 5/20\n",
            "45/45 - 1s - loss: 0.5410 - accuracy: 0.8545 - val_loss: 0.5179 - val_accuracy: 0.7944 - lr: 0.0100 - 564ms/epoch - 13ms/step\n",
            "Epoch 6/20\n",
            "45/45 - 1s - loss: 0.4928 - accuracy: 0.8538 - val_loss: 0.4635 - val_accuracy: 0.8339 - lr: 0.0100 - 517ms/epoch - 11ms/step\n",
            "Epoch 7/20\n",
            "45/45 - 0s - loss: 0.4354 - accuracy: 0.8637 - val_loss: 0.4079 - val_accuracy: 0.8586 - lr: 0.0100 - 486ms/epoch - 11ms/step\n",
            "Epoch 8/20\n",
            "45/45 - 0s - loss: 0.4059 - accuracy: 0.8573 - val_loss: 0.4925 - val_accuracy: 0.7878 - lr: 0.0100 - 475ms/epoch - 11ms/step\n",
            "Epoch 9/20\n",
            "45/45 - 1s - loss: 0.3998 - accuracy: 0.8616 - val_loss: 0.3650 - val_accuracy: 0.8668 - lr: 0.0100 - 501ms/epoch - 11ms/step\n",
            "Epoch 10/20\n",
            "45/45 - 0s - loss: 0.3758 - accuracy: 0.8708 - val_loss: 0.4483 - val_accuracy: 0.7977 - lr: 0.0100 - 470ms/epoch - 10ms/step\n",
            "Epoch 11/20\n",
            "\n",
            "Epoch 11: ReduceLROnPlateau reducing learning rate to 0.0009999999776482583.\n",
            "45/45 - 0s - loss: 0.3806 - accuracy: 0.8701 - val_loss: 0.3957 - val_accuracy: 0.8766 - lr: 0.0100 - 498ms/epoch - 11ms/step\n",
            "Epoch 12/20\n",
            "\n",
            "Epoch 12: ReduceLROnPlateau reducing learning rate to 9.999999310821295e-05.\n",
            "45/45 - 0s - loss: 0.3785 - accuracy: 0.8828 - val_loss: 0.3686 - val_accuracy: 0.8766 - lr: 1.0000e-03 - 471ms/epoch - 10ms/step\n",
            "Epoch 13/20\n",
            "45/45 - 0s - loss: 0.3655 - accuracy: 0.8799 - val_loss: 0.3665 - val_accuracy: 0.8750 - lr: 1.0000e-04 - 497ms/epoch - 11ms/step\n",
            "Epoch 14/20\n",
            "45/45 - 0s - loss: 0.3637 - accuracy: 0.8792 - val_loss: 0.3645 - val_accuracy: 0.8750 - lr: 1.0000e-04 - 480ms/epoch - 11ms/step\n",
            "Epoch 15/20\n",
            "45/45 - 0s - loss: 0.3619 - accuracy: 0.8764 - val_loss: 0.3626 - val_accuracy: 0.8750 - lr: 1.0000e-04 - 483ms/epoch - 11ms/step\n",
            "Epoch 16/20\n",
            "45/45 - 0s - loss: 0.3603 - accuracy: 0.8757 - val_loss: 0.3608 - val_accuracy: 0.8750 - lr: 1.0000e-04 - 487ms/epoch - 11ms/step\n",
            "Epoch 17/20\n",
            "45/45 - 1s - loss: 0.3588 - accuracy: 0.8757 - val_loss: 0.3590 - val_accuracy: 0.8750 - lr: 1.0000e-04 - 527ms/epoch - 12ms/step\n",
            "Epoch 18/20\n",
            "45/45 - 1s - loss: 0.3573 - accuracy: 0.8750 - val_loss: 0.3574 - val_accuracy: 0.8750 - lr: 1.0000e-04 - 526ms/epoch - 12ms/step\n",
            "Epoch 19/20\n",
            "45/45 - 1s - loss: 0.3559 - accuracy: 0.8750 - val_loss: 0.3559 - val_accuracy: 0.8750 - lr: 1.0000e-04 - 546ms/epoch - 12ms/step\n",
            "Epoch 20/20\n",
            "45/45 - 1s - loss: 0.3546 - accuracy: 0.8743 - val_loss: 0.3544 - val_accuracy: 0.8750 - lr: 1.0000e-04 - 527ms/epoch - 12ms/step\n"
          ]
        }
      ],
      "source": [
        "tot_df = pd.read_csv('tot_df.csv')\n",
        "  # tot_df['Unnamed: 0']\n",
        "tot_df.index = tot_df['Unnamed: 0']\n",
        "tot_df = tot_df.drop(['Unnamed: 0'], axis=1)\n",
        "#shuffle sul dataframe\n",
        "index_list = list(np.array(list(range(int(tot_df.shape[0]/19))))) # creo la lista degli indici\n",
        "np.random.shuffle(index_list) # shuffle non ritorna niente, agisce su index_list\n",
        "\n",
        "tot_df = tot_df.loc[index_list]\n",
        "\n",
        "x_col = list(tot_df.columns)\n",
        "\n",
        "# rimuovo la colonna della variabile target\n",
        "x_col.remove('target')\n",
        "x_col.remove('electrons_isTightElectron')\n",
        "x_col.remove('muons_isTightMuon')\n",
        "x_col.remove('top_label')\n",
        "\n",
        "x_col.remove('muons_charge')\n",
        "x_col.remove('electrons_charge')\n",
        "\n",
        "# x_col.remove('jets_e')\n",
        "# x_col.remove('jets_eta')\n",
        "# x_col.remove('jets_phi')\n",
        "# x_col.remove('jets_pt')\n",
        "\n",
        "X = tot_df[x_col].values\n",
        "# definisco la colonna della variabile target\n",
        "y = tot_df['target'].values\n",
        "\n",
        "from sklearn.preprocessing import StandardScaler\n",
        "scaler = StandardScaler()\n",
        "X = scaler.fit_transform(X)\n",
        "\n",
        "# preprocessing per LSTM\n",
        "X= shape_sequence(X, 4)\n",
        "y= shape_sequence(y, 4)\n",
        "\n",
        "X_train, X_test, y_train, y_test = train_test_split(X, y, train_size=0.7, shuffle=False)\n",
        "\n",
        "\n",
        "model1=create_model(X_train,y_train)\n",
        "\n",
        "\n",
        "shape=X_train.shape[1]\n",
        "feat_length=X_train.shape[2]\n",
        "\n",
        "\n",
        "list_of_n_layers=[1,3,5,8] #individual[0]\n",
        "list_of_activation=['sigmoid','relu','softmax','tanh']  #individual[1]\n",
        "list_of_rec_activation=['sigmoid','relu','softmax','tanh'] #individual[2]\n",
        "list_number_of_epochs=[5,10,20,30] #individual[3]\n",
        "  \n",
        "\n",
        "# individual=[0, 3, 3, 1, 0, 2]\n",
        "individual=[0,3,3,2]\n",
        "\n",
        "model=Sequential()\n",
        "model.add(Masking(mask_value=-10, input_shape=(shape, feat_length)))\n",
        "for i in range(list_of_n_layers[individual[0]]):\n",
        "  model.add(LSTM((feat_length), input_shape=(shape,feat_length),activation=list_of_activation[individual[1]], recurrent_activation=list_of_rec_activation[individual[2]], return_sequences=True))\n",
        "model.add(model1)  \n",
        "reduce_lr = ReduceLROnPlateau(monitor='loss', factor=0.1, patience=1, min_lr=1e-7, verbose=1)\n",
        "opt=SGD(lr=0.01)\n",
        "model.compile(loss='binary_crossentropy', optimizer=opt, metrics=['accuracy'])\n",
        "\n",
        "history_def=model.fit(X_train, y_train, epochs=list_number_of_epochs[individual[3]],callbacks=[reduce_lr], verbose=2, validation_data=(X_test,y_test))\n",
        "#score = model.evaluate(X_test, y_test)\n"
      ]
    },
    {
      "cell_type": "code",
      "execution_count": null,
      "metadata": {
        "id": "anv7_D1l13Pf"
      },
      "outputs": [],
      "source": [
        "def lstm_test_evaluation_graphs(history):\n",
        "    # summarize history for accuracy\n",
        "    fig_acc = plt.figure(figsize=(10, 10))\n",
        "    plt.plot(history.history['accuracy'])\n",
        "    plt.plot(history.history['val_accuracy'])    \n",
        "    plt.title('model accuracy')\n",
        "    plt.ylabel('accuracy')\n",
        "    plt.xlabel('epoch')\n",
        "    plt.legend(['train', 'test'], loc='upper left')\n",
        "    plt.show()\n",
        "    # fig_acc.savefig(\"model_accuracy.png\")\n",
        "\n",
        "    # summarize history for Loss\n",
        "    fig_acc = plt.figure(figsize=(10, 10))\n",
        "    plt.plot(history.history['loss'])\n",
        "    plt.plot(history.history['val_loss'])\n",
        "    plt.title('model loss')\n",
        "    plt.ylabel('loss')\n",
        "    plt.xlabel('epoch')\n",
        "    plt.legend(['train', 'test'], loc='upper left')\n",
        "    plt.show()\n",
        "    # fig_acc.savefig(\"model_regression_loss.png\")"
      ]
    },
    {
      "cell_type": "code",
      "execution_count": null,
      "metadata": {
        "colab": {
          "base_uri": "https://localhost:8080/",
          "height": 1000
        },
        "id": "J8XaMvmQ1_CT",
        "outputId": "8b4a06a8-9cff-4a7d-8166-c383ff4f7314"
      },
      "outputs": [
        {
          "output_type": "display_data",
          "data": {
            "text/plain": [
              "<Figure size 720x720 with 1 Axes>"
            ],
            "image/png": "[encoded data removed]"
          },
          "metadata": {
            "needs_background": "light"
          }
        },
        {
          "output_type": "display_data",
          "data": {
            "text/plain": [
              "<Figure size 720x720 with 1 Axes>"
            ],
            "image/png": "[encoded data removed]"
          },
          "metadata": {
            "needs_background": "light"
          }
        }
      ],
      "source": [
        "lstm_test_evaluation_graphs(history_def)"
      ]
    },
    {
      "cell_type": "markdown",
      "metadata": {
        "id": "k7TLX96H_7fn"
      },
      "source": [
        "**Grafico classificazione fondo-segnale**"
      ]
    },
    {
      "cell_type": "code",
      "execution_count": null,
      "metadata": {
        "id": "w73EXrbZNJru"
      },
      "outputs": [],
      "source": [
        "y_pred=model.predict(X_test)"
      ]
    },
    {
      "cell_type": "code",
      "execution_count": null,
      "metadata": {
        "colab": {
          "base_uri": "https://localhost:8080/",
          "height": 297
        },
        "id": "wuieFEgjABLa",
        "outputId": "ebeadb93-43e7-4608-e02b-4d84a071d56d"
      },
      "outputs": [
        {
          "output_type": "execute_result",
          "data": {
            "text/plain": [
              "<matplotlib.legend.Legend at 0x7fa2435391d0>"
            ]
          },
          "metadata": {},
          "execution_count": 73
        },
        {
          "output_type": "display_data",
          "data": {
            "text/plain": [
              "<Figure size 432x288 with 1 Axes>"
            ],
            "image/png": "[encoded data removed]"
          },
          "metadata": {
            "needs_background": "light"
          }
        }
      ],
      "source": [
        "y_test = reduce_Y(y_test)\n",
        "y_train = reduce_Y(y_train)\n",
        "d0 = model.predict(X_train[np.where(y_train>0.5)])\n",
        "d1 = model.predict(X_train[np.where(y_train<0.5)])\n",
        "\n",
        "d2 = model.predict(X_test[np.where(y_test>0.5)])\n",
        "d3 = model.predict(X_test[np.where(y_test<0.5)])\n",
        "\n",
        "fig, ax = plt.subplots()\n",
        "ax.hist(d0, color='r', alpha=0.5, range=(0,1), bins=30, histtype='stepfilled', label='Signal (t\\\n",
        "rain)', density=True)\n",
        "ax.hist(d1, color='b', alpha=0.5, range=(0,1), bins=30, histtype='stepfilled', label='Backgroun\\\n",
        "d (train)', density=True)\n",
        "hist, bins = np.histogram(d2, bins=30, range=(0,1), density=True)\n",
        "scale = len(d2) / sum(hist)\n",
        "err = np.sqrt(hist * scale) / scale\n",
        "center = (bins[:-1] + bins[1:]) / 2\n",
        "ax.errorbar(center, hist, yerr=err, fmt='o', c='r', label='Signal (test)')\n",
        "hist, bins = np.histogram(d3, bins=30, range=(0,1), density=True)\n",
        "scale = len(d3) / sum(hist)\n",
        "err = np.sqrt(hist * scale) / scale\n",
        "ax.errorbar(center, hist, yerr=err, fmt='o', c='b', label='Background (test)')\n",
        "ax.set_xlabel(\"Output\")\n",
        "ax.set_ylabel(\"Arbitrary units\")\n",
        "# ax.set_title()\n",
        "ax.legend(loc='best')"
      ]
    },
    {
      "cell_type": "markdown",
      "metadata": {
        "id": "L2F1KL-qAGwO"
      },
      "source": [
        "Curva ROC"
      ]
    },
    {
      "cell_type": "code",
      "execution_count": null,
      "metadata": {
        "colab": {
          "base_uri": "https://localhost:8080/",
          "height": 350
        },
        "id": "ZGkqJIjyAFjs",
        "outputId": "c6c36cf9-21c9-4f5e-d28f-a0ace8fc165c"
      },
      "outputs": [
        {
          "output_type": "display_data",
          "data": {
            "text/plain": [
              "<Figure size 504x360 with 1 Axes>"
            ],
            "image/png": "[encoded data removed]"
          },
          "metadata": {
            "needs_background": "light"
          }
        }
      ],
      "source": [
        "from sklearn.metrics import roc_curve, auc\n",
        "\n",
        "# Roc\n",
        "fpr, tpr, thresholds = roc_curve(y_test, y_pred)\n",
        "roc_auc = auc(fpr,tpr)\n",
        "\n",
        "# Roc plot\n",
        "fig_roc, ax_roc = plt.subplots(figsize=(7, 5))\n",
        "ax_roc.plot(fpr, tpr, lw=2, color='purple',label='full training (auc = %.3f)' % (roc_auc))\n",
        "ax_roc.plot([0, 1], [0, 1], linestyle='--', lw=2, color='k', label='random chance')\n",
        "ax_roc.set_xlim([0, 1.0])\n",
        "ax_roc.set_ylim([0, 1.0])\n",
        "ax_roc.set_xlabel('false positive rate')\n",
        "ax_roc.set_ylabel('true positive rate')\n",
        "ax_roc.set_title('Receiver Operating Curve')\n",
        "ax_roc.grid(True)"
      ]
    },
    {
      "cell_type": "code",
      "execution_count": null,
      "metadata": {
        "id": "ht-NhPR7pXg8"
      },
      "outputs": [],
      "source": [
        "y_pred_ = []\n",
        "for i in list(y_pred):\n",
        "  if i<0.5 and i>-0.2:\n",
        "    y_pred_.append(0)\n",
        "  else:\n",
        "    y_pred_.append(1)"
      ]
    },
    {
      "cell_type": "code",
      "execution_count": null,
      "metadata": {
        "colab": {
          "base_uri": "https://localhost:8080/",
          "height": 279
        },
        "id": "taq8MPqWpZ_L",
        "outputId": "8456df3b-9dee-4551-e4c1-913fd07f999d"
      },
      "outputs": [
        {
          "output_type": "display_data",
          "data": {
            "text/plain": [
              "<Figure size 432x288 with 2 Axes>"
            ],
            "image/png": "[encoded data removed]"
          },
          "metadata": {
            "needs_background": "light"
          }
        }
      ],
      "source": [
        "from sklearn.metrics import confusion_matrix, ConfusionMatrixDisplay\n",
        "# calcolo i coefficienti della matrice di confusione\n",
        "confusion_matrix=confusion_matrix(y_test, y_pred_)  \n",
        "# plot confusion matrix\n",
        "disp = ConfusionMatrixDisplay(confusion_matrix=confusion_matrix)\n",
        "disp.plot(cmap=plt.cm.Greens)\n",
        "plt.show()"
      ]
    }
  ],
  "metadata": {
    "colab": {
      "collapsed_sections": [],
      "name": "semprealTop.ipynb",
      "provenance": [],
      "include_colab_link": true
    },
    "kernelspec": {
      "display_name": "Python 3",
      "name": "python3"
    },
    "language_info": {
      "name": "python"
    }
  },
  "nbformat": 4,
  "nbformat_minor": 0
}